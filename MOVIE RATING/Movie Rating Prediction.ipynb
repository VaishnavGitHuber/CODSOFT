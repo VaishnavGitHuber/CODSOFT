{
 "cells": [
  {
   "cell_type": "markdown",
   "id": "ae5983e0",
   "metadata": {},
   "source": [
    "# Author: Vaishnav Krishna P\n",
    "### DataSet Source:https://www.kaggle.com/datasets/adrianmcmahon/imdb-india-movies\n",
    "# Intership: CodSoft(Movie Rating)"
   ]
  },
  {
   "cell_type": "markdown",
   "id": "02fd8e35",
   "metadata": {},
   "source": [
    "task:\n",
    "* Build a model that predicts the rating of a movie based on features like genre, director, and actors. You can use regression techniques to tackle this problem.\n",
    "* The goal is to analyze historical movie data and develop a model that accurately estimates the rating given to a movie by users or critics.\n",
    "* Movie Rating Prediction project enables you to explore data analysis, preprocessing, feature engineering, and machine learning modeling techniques. It provides insights into the factors that influence movie ratings and allows you to build a model that can estimate the ratings of movies accurately."
   ]
  },
  {
   "cell_type": "code",
   "execution_count": 331,
   "id": "5a667d67",
   "metadata": {},
   "outputs": [],
   "source": [
    "# importing necessory libraries\n",
    "import pandas as pd\n",
    "import numpy as np\n",
    "import matplotlib.pyplot as plt\n",
    "import seaborn as sns\n",
    "\n",
    "# import math libraries \n",
    "import math\n",
    "from scipy import stats\n",
    "\n",
    "# uncompactable issues: removing the warnings\n",
    "import warnings\n",
    "warnings.filterwarnings(action=\"ignore\")\n",
    "\n",
    "# Printing option\n",
    "pd.set_option(\"display.max_rows\",None)\n",
    "pd.set_option(\"display.max_columns\",None)\n",
    "\n",
    "# Applying regression\n",
    "from sklearn.linear_model import LinearRegression\n",
    "from sklearn.tree import DecisionTreeRegressor\n",
    "from sklearn.ensemble import RandomForestRegressor\n",
    "from sklearn.neighbors import KNeighborsRegressor\n",
    "from xgboost import XGBRegressor\n",
    "\n",
    "# training using train_test_split and cross_val_score\n",
    "from sklearn.model_selection import train_test_split\n",
    "from sklearn.metrics import make_scorer, r2_score,mean_squared_error,mean_absolute_error"
   ]
  },
  {
   "cell_type": "code",
   "execution_count": 332,
   "id": "2e3cca06",
   "metadata": {},
   "outputs": [],
   "source": [
    "# importing the dataset \n",
    "df = pd.read_csv(\"IMDb Movies India.csv\",encoding=\"latin\")"
   ]
  },
  {
   "cell_type": "code",
   "execution_count": 333,
   "id": "9d0d58de",
   "metadata": {},
   "outputs": [
    {
     "data": {
      "text/html": [
       "<div>\n",
       "<style scoped>\n",
       "    .dataframe tbody tr th:only-of-type {\n",
       "        vertical-align: middle;\n",
       "    }\n",
       "\n",
       "    .dataframe tbody tr th {\n",
       "        vertical-align: top;\n",
       "    }\n",
       "\n",
       "    .dataframe thead th {\n",
       "        text-align: right;\n",
       "    }\n",
       "</style>\n",
       "<table border=\"1\" class=\"dataframe\">\n",
       "  <thead>\n",
       "    <tr style=\"text-align: right;\">\n",
       "      <th></th>\n",
       "      <th>Name</th>\n",
       "      <th>Year</th>\n",
       "      <th>Duration</th>\n",
       "      <th>Genre</th>\n",
       "      <th>Rating</th>\n",
       "      <th>Votes</th>\n",
       "      <th>Director</th>\n",
       "      <th>Actor 1</th>\n",
       "      <th>Actor 2</th>\n",
       "      <th>Actor 3</th>\n",
       "    </tr>\n",
       "  </thead>\n",
       "  <tbody>\n",
       "    <tr>\n",
       "      <th>0</th>\n",
       "      <td></td>\n",
       "      <td>NaN</td>\n",
       "      <td>NaN</td>\n",
       "      <td>Drama</td>\n",
       "      <td>NaN</td>\n",
       "      <td>NaN</td>\n",
       "      <td>J.S. Randhawa</td>\n",
       "      <td>Manmauji</td>\n",
       "      <td>Birbal</td>\n",
       "      <td>Rajendra Bhatia</td>\n",
       "    </tr>\n",
       "    <tr>\n",
       "      <th>1</th>\n",
       "      <td>#Gadhvi (He thought he was Gandhi)</td>\n",
       "      <td>(2019)</td>\n",
       "      <td>109 min</td>\n",
       "      <td>Drama</td>\n",
       "      <td>7.0</td>\n",
       "      <td>8</td>\n",
       "      <td>Gaurav Bakshi</td>\n",
       "      <td>Rasika Dugal</td>\n",
       "      <td>Vivek Ghamande</td>\n",
       "      <td>Arvind Jangid</td>\n",
       "    </tr>\n",
       "    <tr>\n",
       "      <th>2</th>\n",
       "      <td>#Homecoming</td>\n",
       "      <td>(2021)</td>\n",
       "      <td>90 min</td>\n",
       "      <td>Drama, Musical</td>\n",
       "      <td>NaN</td>\n",
       "      <td>NaN</td>\n",
       "      <td>Soumyajit Majumdar</td>\n",
       "      <td>Sayani Gupta</td>\n",
       "      <td>Plabita Borthakur</td>\n",
       "      <td>Roy Angana</td>\n",
       "    </tr>\n",
       "    <tr>\n",
       "      <th>3</th>\n",
       "      <td>#Yaaram</td>\n",
       "      <td>(2019)</td>\n",
       "      <td>110 min</td>\n",
       "      <td>Comedy, Romance</td>\n",
       "      <td>4.4</td>\n",
       "      <td>35</td>\n",
       "      <td>Ovais Khan</td>\n",
       "      <td>Prateik</td>\n",
       "      <td>Ishita Raj</td>\n",
       "      <td>Siddhant Kapoor</td>\n",
       "    </tr>\n",
       "    <tr>\n",
       "      <th>4</th>\n",
       "      <td>...And Once Again</td>\n",
       "      <td>(2010)</td>\n",
       "      <td>105 min</td>\n",
       "      <td>Drama</td>\n",
       "      <td>NaN</td>\n",
       "      <td>NaN</td>\n",
       "      <td>Amol Palekar</td>\n",
       "      <td>Rajat Kapoor</td>\n",
       "      <td>Rituparna Sengupta</td>\n",
       "      <td>Antara Mali</td>\n",
       "    </tr>\n",
       "  </tbody>\n",
       "</table>\n",
       "</div>"
      ],
      "text/plain": [
       "                                 Name    Year Duration            Genre  \\\n",
       "0                                         NaN      NaN            Drama   \n",
       "1  #Gadhvi (He thought he was Gandhi)  (2019)  109 min            Drama   \n",
       "2                         #Homecoming  (2021)   90 min   Drama, Musical   \n",
       "3                             #Yaaram  (2019)  110 min  Comedy, Romance   \n",
       "4                   ...And Once Again  (2010)  105 min            Drama   \n",
       "\n",
       "   Rating Votes            Director       Actor 1             Actor 2  \\\n",
       "0     NaN   NaN       J.S. Randhawa      Manmauji              Birbal   \n",
       "1     7.0     8       Gaurav Bakshi  Rasika Dugal      Vivek Ghamande   \n",
       "2     NaN   NaN  Soumyajit Majumdar  Sayani Gupta   Plabita Borthakur   \n",
       "3     4.4    35          Ovais Khan       Prateik          Ishita Raj   \n",
       "4     NaN   NaN        Amol Palekar  Rajat Kapoor  Rituparna Sengupta   \n",
       "\n",
       "           Actor 3  \n",
       "0  Rajendra Bhatia  \n",
       "1    Arvind Jangid  \n",
       "2       Roy Angana  \n",
       "3  Siddhant Kapoor  \n",
       "4      Antara Mali  "
      ]
     },
     "execution_count": 333,
     "metadata": {},
     "output_type": "execute_result"
    }
   ],
   "source": [
    "df.head()"
   ]
  },
  {
   "cell_type": "markdown",
   "id": "2d0b5536",
   "metadata": {},
   "source": [
    "### Data Preprocessing\n",
    "steps:\n",
    "   1. Data Cleaning: Missing Value and noises\n",
    "   2. Data Reduction: encoding,scaling\n",
    "   3. Data Transformation: \n",
    "   4. Removing the constant feature:"
   ]
  },
  {
   "cell_type": "markdown",
   "id": "0ea49603",
   "metadata": {},
   "source": [
    "#### Data Cleaning: Missing Value and noises"
   ]
  },
  {
   "cell_type": "markdown",
   "id": "c094df4c",
   "metadata": {},
   "source": [
    "* firstly, we are removing all the features with the target variable is unknown.bcz,for 50 percent of the features target variable is missing  so better to remove."
   ]
  },
  {
   "cell_type": "code",
   "execution_count": 334,
   "id": "4d192d41",
   "metadata": {},
   "outputs": [
    {
     "data": {
      "text/plain": [
       "7919"
      ]
     },
     "execution_count": 334,
     "metadata": {},
     "output_type": "execute_result"
    }
   ],
   "source": [
    "# No of non null records in Rating\n",
    "df[\"Rating\"].count()"
   ]
  },
  {
   "cell_type": "code",
   "execution_count": 335,
   "id": "10187f8b",
   "metadata": {},
   "outputs": [],
   "source": [
    "# Ignoring the tuple with target value is unknown to reduce the noise \n",
    "df = df[df[\"Rating\"].isnull() == False]"
   ]
  },
  {
   "cell_type": "code",
   "execution_count": 336,
   "id": "6359a795",
   "metadata": {},
   "outputs": [
    {
     "data": {
      "text/plain": [
       "(7919, 10)"
      ]
     },
     "execution_count": 336,
     "metadata": {},
     "output_type": "execute_result"
    }
   ],
   "source": [
    "# shape of the dataset\n",
    "df.shape"
   ]
  },
  {
   "cell_type": "code",
   "execution_count": 337,
   "id": "ec580be2",
   "metadata": {},
   "outputs": [
    {
     "data": {
      "text/html": [
       "<div>\n",
       "<style scoped>\n",
       "    .dataframe tbody tr th:only-of-type {\n",
       "        vertical-align: middle;\n",
       "    }\n",
       "\n",
       "    .dataframe tbody tr th {\n",
       "        vertical-align: top;\n",
       "    }\n",
       "\n",
       "    .dataframe thead th {\n",
       "        text-align: right;\n",
       "    }\n",
       "</style>\n",
       "<table border=\"1\" class=\"dataframe\">\n",
       "  <thead>\n",
       "    <tr style=\"text-align: right;\">\n",
       "      <th></th>\n",
       "      <th>Name</th>\n",
       "      <th>Year</th>\n",
       "      <th>Duration</th>\n",
       "      <th>Genre</th>\n",
       "      <th>Rating</th>\n",
       "      <th>Votes</th>\n",
       "      <th>Director</th>\n",
       "      <th>Actor 1</th>\n",
       "      <th>Actor 2</th>\n",
       "      <th>Actor 3</th>\n",
       "    </tr>\n",
       "  </thead>\n",
       "  <tbody>\n",
       "    <tr>\n",
       "      <th>1</th>\n",
       "      <td>#Gadhvi (He thought he was Gandhi)</td>\n",
       "      <td>(2019)</td>\n",
       "      <td>109 min</td>\n",
       "      <td>Drama</td>\n",
       "      <td>7.0</td>\n",
       "      <td>8</td>\n",
       "      <td>Gaurav Bakshi</td>\n",
       "      <td>Rasika Dugal</td>\n",
       "      <td>Vivek Ghamande</td>\n",
       "      <td>Arvind Jangid</td>\n",
       "    </tr>\n",
       "    <tr>\n",
       "      <th>3</th>\n",
       "      <td>#Yaaram</td>\n",
       "      <td>(2019)</td>\n",
       "      <td>110 min</td>\n",
       "      <td>Comedy, Romance</td>\n",
       "      <td>4.4</td>\n",
       "      <td>35</td>\n",
       "      <td>Ovais Khan</td>\n",
       "      <td>Prateik</td>\n",
       "      <td>Ishita Raj</td>\n",
       "      <td>Siddhant Kapoor</td>\n",
       "    </tr>\n",
       "    <tr>\n",
       "      <th>5</th>\n",
       "      <td>...Aur Pyaar Ho Gaya</td>\n",
       "      <td>(1997)</td>\n",
       "      <td>147 min</td>\n",
       "      <td>Comedy, Drama, Musical</td>\n",
       "      <td>4.7</td>\n",
       "      <td>827</td>\n",
       "      <td>Rahul Rawail</td>\n",
       "      <td>Bobby Deol</td>\n",
       "      <td>Aishwarya Rai Bachchan</td>\n",
       "      <td>Shammi Kapoor</td>\n",
       "    </tr>\n",
       "    <tr>\n",
       "      <th>6</th>\n",
       "      <td>...Yahaan</td>\n",
       "      <td>(2005)</td>\n",
       "      <td>142 min</td>\n",
       "      <td>Drama, Romance, War</td>\n",
       "      <td>7.4</td>\n",
       "      <td>1,086</td>\n",
       "      <td>Shoojit Sircar</td>\n",
       "      <td>Jimmy Sheirgill</td>\n",
       "      <td>Minissha Lamba</td>\n",
       "      <td>Yashpal Sharma</td>\n",
       "    </tr>\n",
       "    <tr>\n",
       "      <th>8</th>\n",
       "      <td>?: A Question Mark</td>\n",
       "      <td>(2012)</td>\n",
       "      <td>82 min</td>\n",
       "      <td>Horror, Mystery, Thriller</td>\n",
       "      <td>5.6</td>\n",
       "      <td>326</td>\n",
       "      <td>Allyson Patel</td>\n",
       "      <td>Yash Dave</td>\n",
       "      <td>Muntazir Ahmad</td>\n",
       "      <td>Kiran Bhatia</td>\n",
       "    </tr>\n",
       "  </tbody>\n",
       "</table>\n",
       "</div>"
      ],
      "text/plain": [
       "                                 Name    Year Duration  \\\n",
       "1  #Gadhvi (He thought he was Gandhi)  (2019)  109 min   \n",
       "3                             #Yaaram  (2019)  110 min   \n",
       "5                ...Aur Pyaar Ho Gaya  (1997)  147 min   \n",
       "6                           ...Yahaan  (2005)  142 min   \n",
       "8                  ?: A Question Mark  (2012)   82 min   \n",
       "\n",
       "                       Genre  Rating  Votes        Director          Actor 1  \\\n",
       "1                      Drama     7.0      8   Gaurav Bakshi     Rasika Dugal   \n",
       "3            Comedy, Romance     4.4     35      Ovais Khan          Prateik   \n",
       "5     Comedy, Drama, Musical     4.7    827    Rahul Rawail       Bobby Deol   \n",
       "6        Drama, Romance, War     7.4  1,086  Shoojit Sircar  Jimmy Sheirgill   \n",
       "8  Horror, Mystery, Thriller     5.6    326   Allyson Patel        Yash Dave   \n",
       "\n",
       "                  Actor 2          Actor 3  \n",
       "1          Vivek Ghamande    Arvind Jangid  \n",
       "3              Ishita Raj  Siddhant Kapoor  \n",
       "5  Aishwarya Rai Bachchan    Shammi Kapoor  \n",
       "6          Minissha Lamba   Yashpal Sharma  \n",
       "8          Muntazir Ahmad     Kiran Bhatia  "
      ]
     },
     "execution_count": 337,
     "metadata": {},
     "output_type": "execute_result"
    }
   ],
   "source": [
    "df.head()"
   ]
  },
  {
   "cell_type": "code",
   "execution_count": 338,
   "id": "adcfceca",
   "metadata": {},
   "outputs": [
    {
     "data": {
      "text/plain": [
       "[]"
      ]
     },
     "execution_count": 338,
     "metadata": {},
     "output_type": "execute_result"
    },
    {
     "data": {
      "image/png": "[encoded data removed]",
      "text/plain": [
       "<Figure size 640x480 with 2 Axes>"
      ]
     },
     "metadata": {},
     "output_type": "display_data"
    }
   ],
   "source": [
    "# Missing value analayisis\n",
    "plt.title(\"Missing values: Dataset\")\n",
    "sns.heatmap(df.isnull())\n",
    "plt.plot()"
   ]
  },
  {
   "cell_type": "code",
   "execution_count": 339,
   "id": "f891eca2",
   "metadata": {},
   "outputs": [
    {
     "data": {
      "text/plain": [
       "Name           0\n",
       "Year           0\n",
       "Duration    2068\n",
       "Genre        102\n",
       "Rating         0\n",
       "Votes          0\n",
       "Director       5\n",
       "Actor 1      125\n",
       "Actor 2      200\n",
       "Actor 3      292\n",
       "dtype: int64"
      ]
     },
     "execution_count": 339,
     "metadata": {},
     "output_type": "execute_result"
    }
   ],
   "source": [
    "# Missing values \n",
    "df.isnull().sum()"
   ]
  },
  {
   "cell_type": "code",
   "execution_count": 340,
   "id": "a7b68740",
   "metadata": {},
   "outputs": [],
   "source": [
    "# Filling the Genere with most most frequently occuring category ie,Drama\n",
    "df[\"Genre\"].fillna(df[\"Genre\"].value_counts().index[0],inplace=True)"
   ]
  },
  {
   "cell_type": "code",
   "execution_count": 341,
   "id": "972abba4",
   "metadata": {},
   "outputs": [],
   "source": [
    "# Filling the Director with most most frequently occuring category ie,Mahesh Butt\n",
    "df[\"Director\"].fillna(df[\"Director\"].value_counts().index[0],inplace=True)"
   ]
  },
  {
   "cell_type": "code",
   "execution_count": 342,
   "id": "cb124a74",
   "metadata": {},
   "outputs": [],
   "source": [
    "# For Actor1,Actor2,Actor3: handling the missing value by Global constant ie,Unknown\n",
    "for feature in [\"Actor 1\",\"Actor 2\",\"Actor 3\"]:\n",
    "    df[feature].fillna(\"Unknown\",inplace=True)"
   ]
  },
  {
   "cell_type": "markdown",
   "id": "6fcaf5a1",
   "metadata": {},
   "source": [
    "* Since, from our EDA we under stand that, Duration is not a very important parameter for deciding the rating.so,no need to handle the missing value for it any way we will remove later.but, just for a completness we will handle it with a global constant"
   ]
  },
  {
   "cell_type": "code",
   "execution_count": 343,
   "id": "840c77c6",
   "metadata": {},
   "outputs": [],
   "source": [
    "# for Duration filling with global constant: \"Missing\"\n",
    "df[\"Duration\"].fillna(\"Missing\",inplace=True)"
   ]
  },
  {
   "cell_type": "markdown",
   "id": "59ab8d10",
   "metadata": {},
   "source": [
    "* Missing value hanlding Completed"
   ]
  },
  {
   "cell_type": "markdown",
   "id": "6cf6e07c",
   "metadata": {},
   "source": [
    "### Feature Engineering\n",
    "* 1.Discretising the year feature to 8 bins\n",
    "* 2.Creating Binary features from the Genre"
   ]
  },
  {
   "cell_type": "code",
   "execution_count": 344,
   "id": "5ec4ce08",
   "metadata": {},
   "outputs": [
    {
     "data": {
      "text/plain": [
       "1    (2019)\n",
       "3    (2019)\n",
       "Name: Year, dtype: object"
      ]
     },
     "execution_count": 344,
     "metadata": {},
     "output_type": "execute_result"
    }
   ],
   "source": [
    "df[\"Year\"].head(2)"
   ]
  },
  {
   "cell_type": "code",
   "execution_count": 345,
   "id": "fbfe401c",
   "metadata": {},
   "outputs": [],
   "source": [
    "# removing the \"(\" and \")\" in the Year feature\n",
    "df[\"Year\"] = df[\"Year\"].str.replace(\"(\",\"\").str.replace(\")\",\"\")"
   ]
  },
  {
   "cell_type": "code",
   "execution_count": 346,
   "id": "59015412",
   "metadata": {},
   "outputs": [
    {
     "data": {
      "text/plain": [
       "dtype('int64')"
      ]
     },
     "execution_count": 346,
     "metadata": {},
     "output_type": "execute_result"
    }
   ],
   "source": [
    "# type casting in to int datatype\n",
    "df[\"Year\"] = df[\"Year\"].astype(\"int\")\n",
    "df[\"Year\"].dtype"
   ]
  },
  {
   "cell_type": "code",
   "execution_count": 347,
   "id": "83a7b667",
   "metadata": {},
   "outputs": [
    {
     "data": {
      "text/plain": [
       "92"
      ]
     },
     "execution_count": 347,
     "metadata": {},
     "output_type": "execute_result"
    }
   ],
   "source": [
    "df[\"Year\"].nunique()"
   ]
  },
  {
   "cell_type": "code",
   "execution_count": 348,
   "id": "4ba64690",
   "metadata": {},
   "outputs": [],
   "source": [
    "# Making a new Feature with 8 bins\n",
    "df[\"YearCategorical\"] = 0 * len(df)\n",
    "def YearEncoding(x):\n",
    "    if x in range(1917,1960):\n",
    "        return \"VeryVeryOld\"\n",
    "    elif x in range(1960,1970):\n",
    "        return \"1960s\"\n",
    "    elif x in range(1970,1980):\n",
    "        return \"1970s\"\n",
    "    elif x in range(1980,1990):\n",
    "        return \"1980s\"\n",
    "    elif x in range(1990,2000):\n",
    "        return \"1990s\"\n",
    "    elif x in range(2000,2010):\n",
    "        return \"2000s\"\n",
    "    elif x in range(2010,2020):\n",
    "        return \"2010s\"\n",
    "    elif x in range(2020,2030):\n",
    "        return \"2020s\"\n",
    "for i in range(len(df)):\n",
    "    df[\"YearCategorical\"].iloc[i] = YearEncoding(df[\"Year\"].iloc[i])"
   ]
  },
  {
   "cell_type": "code",
   "execution_count": 349,
   "id": "895e9cfb",
   "metadata": {},
   "outputs": [],
   "source": [
    "# Odinal Encoding\n",
    "year_dict = {\"VeryVeryOld\":1,\"1960s\":2,\"1970s\":3,\"1980s\":4,\"1990s\":5,\"2000s\":6,\"2010s\":7,\"2020s\":8}\n",
    "df[\"YearCategorical\"] = df[\"YearCategorical\"].map(year_dict)"
   ]
  },
  {
   "cell_type": "code",
   "execution_count": 350,
   "id": "134818e9",
   "metadata": {},
   "outputs": [
    {
     "data": {
      "text/plain": [
       "0.9843633573188616"
      ]
     },
     "execution_count": 350,
     "metadata": {},
     "output_type": "execute_result"
    }
   ],
   "source": [
    "df[\"YearCategorical\"].corr(df[\"Year\"])"
   ]
  },
  {
   "cell_type": "code",
   "execution_count": 351,
   "id": "246327dd",
   "metadata": {},
   "outputs": [
    {
     "data": {
      "text/plain": [
       "-0.17396071288185933"
      ]
     },
     "execution_count": 351,
     "metadata": {},
     "output_type": "execute_result"
    }
   ],
   "source": [
    "df[\"YearCategorical\"].corr(df[\"Rating\"])"
   ]
  },
  {
   "cell_type": "code",
   "execution_count": 352,
   "id": "839b09b0",
   "metadata": {},
   "outputs": [],
   "source": [
    "# Make new features from the Genre - Drame[Whether the movie is drama or not]\n",
    "# from the EDA, we understand majority of the movies are Drama,Action,... so it is very important for determing the rating\n",
    "\n",
    "# initialisaing\n",
    "df[\"Drama\"] = 0 * len(df)\n",
    "df[\"Action\"] = 0 * len(df)\n",
    "df[\"Romance\"] = 0 * len(df)\n",
    "df[\"Family\"] = 0 * len(df)\n",
    "df[\"Crime\"] = 0 * len(df)\n",
    "df[\"Comedy\"] = 0 * len(df)\n",
    "df[\"Thriller\"] = 0 * len(df)\n",
    "df[\"Horror\"] = 0 * len(df)\n",
    "\n",
    "i = 0\n",
    "\n",
    "for x in df[\"Genre\"]:\n",
    "    if \"Drama\" in x:\n",
    "        df[\"Drama\"].iloc[i] = 1\n",
    "    if \"Action\" in x:\n",
    "        df[\"Action\"].iloc[i] = 1\n",
    "    if \"Romance\" in x:\n",
    "        df[\"Romance\"].iloc[i] = 1\n",
    "    if \"Family\" in x:\n",
    "        df[\"Family\"].iloc[i] = 1\n",
    "    if \"Crime\" in x:\n",
    "        df[\"Crime\"].iloc[i] = 1\n",
    "    if \"Comedy\" in x:\n",
    "        df[\"Comedy\"].iloc[i] = 1\n",
    "    if \"Thriller\" in x:\n",
    "        df[\"Thriller\"].iloc[i] = 1\n",
    "    if \"Horror\" in x:\n",
    "        df[\"Horror\"].iloc[i] = 1\n",
    "    i += 1"
   ]
  },
  {
   "cell_type": "code",
   "execution_count": 353,
   "id": "3d3bc6cc",
   "metadata": {},
   "outputs": [
    {
     "data": {
      "text/plain": [
       "0.14971895292794218"
      ]
     },
     "execution_count": 353,
     "metadata": {},
     "output_type": "execute_result"
    }
   ],
   "source": [
    "df[\"Drama\"].corr(df[\"Rating\"])"
   ]
  },
  {
   "cell_type": "code",
   "execution_count": 354,
   "id": "8322948c",
   "metadata": {},
   "outputs": [
    {
     "data": {
      "text/plain": [
       "0    7256\n",
       "1     663\n",
       "Name: Family, dtype: int64"
      ]
     },
     "execution_count": 354,
     "metadata": {},
     "output_type": "execute_result"
    }
   ],
   "source": [
    "df[\"Family\"].value_counts()"
   ]
  },
  {
   "cell_type": "code",
   "execution_count": 355,
   "id": "dfd66bda",
   "metadata": {},
   "outputs": [
    {
     "data": {
      "text/html": [
       "<div>\n",
       "<style scoped>\n",
       "    .dataframe tbody tr th:only-of-type {\n",
       "        vertical-align: middle;\n",
       "    }\n",
       "\n",
       "    .dataframe tbody tr th {\n",
       "        vertical-align: top;\n",
       "    }\n",
       "\n",
       "    .dataframe thead th {\n",
       "        text-align: right;\n",
       "    }\n",
       "</style>\n",
       "<table border=\"1\" class=\"dataframe\">\n",
       "  <thead>\n",
       "    <tr style=\"text-align: right;\">\n",
       "      <th></th>\n",
       "      <th>Year</th>\n",
       "      <th>Rating</th>\n",
       "      <th>YearCategorical</th>\n",
       "      <th>Drama</th>\n",
       "      <th>Action</th>\n",
       "      <th>Romance</th>\n",
       "      <th>Family</th>\n",
       "      <th>Crime</th>\n",
       "      <th>Comedy</th>\n",
       "      <th>Thriller</th>\n",
       "      <th>Horror</th>\n",
       "    </tr>\n",
       "  </thead>\n",
       "  <tbody>\n",
       "    <tr>\n",
       "      <th>Year</th>\n",
       "      <td>1.000000</td>\n",
       "      <td>-0.166673</td>\n",
       "      <td>0.984363</td>\n",
       "      <td>-0.094636</td>\n",
       "      <td>0.015254</td>\n",
       "      <td>-0.069263</td>\n",
       "      <td>-0.148756</td>\n",
       "      <td>0.064442</td>\n",
       "      <td>0.133224</td>\n",
       "      <td>0.125646</td>\n",
       "      <td>0.091087</td>\n",
       "    </tr>\n",
       "    <tr>\n",
       "      <th>Rating</th>\n",
       "      <td>-0.166673</td>\n",
       "      <td>1.000000</td>\n",
       "      <td>-0.173961</td>\n",
       "      <td>0.149719</td>\n",
       "      <td>-0.193820</td>\n",
       "      <td>-0.035512</td>\n",
       "      <td>0.077348</td>\n",
       "      <td>-0.033275</td>\n",
       "      <td>-0.038130</td>\n",
       "      <td>-0.077962</td>\n",
       "      <td>-0.146410</td>\n",
       "    </tr>\n",
       "    <tr>\n",
       "      <th>YearCategorical</th>\n",
       "      <td>0.984363</td>\n",
       "      <td>-0.173961</td>\n",
       "      <td>1.000000</td>\n",
       "      <td>-0.092341</td>\n",
       "      <td>0.006582</td>\n",
       "      <td>-0.070023</td>\n",
       "      <td>-0.154520</td>\n",
       "      <td>0.060407</td>\n",
       "      <td>0.128274</td>\n",
       "      <td>0.125500</td>\n",
       "      <td>0.095042</td>\n",
       "    </tr>\n",
       "    <tr>\n",
       "      <th>Drama</th>\n",
       "      <td>-0.094636</td>\n",
       "      <td>0.149719</td>\n",
       "      <td>-0.092341</td>\n",
       "      <td>1.000000</td>\n",
       "      <td>-0.136819</td>\n",
       "      <td>-0.013415</td>\n",
       "      <td>0.110033</td>\n",
       "      <td>0.019539</td>\n",
       "      <td>-0.103757</td>\n",
       "      <td>-0.206495</td>\n",
       "      <td>-0.172827</td>\n",
       "    </tr>\n",
       "    <tr>\n",
       "      <th>Action</th>\n",
       "      <td>0.015254</td>\n",
       "      <td>-0.193820</td>\n",
       "      <td>0.006582</td>\n",
       "      <td>-0.136819</td>\n",
       "      <td>1.000000</td>\n",
       "      <td>-0.189377</td>\n",
       "      <td>-0.162936</td>\n",
       "      <td>0.259368</td>\n",
       "      <td>-0.081057</td>\n",
       "      <td>0.031834</td>\n",
       "      <td>-0.102239</td>\n",
       "    </tr>\n",
       "    <tr>\n",
       "      <th>Romance</th>\n",
       "      <td>-0.069263</td>\n",
       "      <td>-0.035512</td>\n",
       "      <td>-0.070023</td>\n",
       "      <td>-0.013415</td>\n",
       "      <td>-0.189377</td>\n",
       "      <td>1.000000</td>\n",
       "      <td>-0.073284</td>\n",
       "      <td>-0.168834</td>\n",
       "      <td>0.041442</td>\n",
       "      <td>-0.084869</td>\n",
       "      <td>-0.067100</td>\n",
       "    </tr>\n",
       "    <tr>\n",
       "      <th>Family</th>\n",
       "      <td>-0.148756</td>\n",
       "      <td>0.077348</td>\n",
       "      <td>-0.154520</td>\n",
       "      <td>0.110033</td>\n",
       "      <td>-0.162936</td>\n",
       "      <td>-0.073284</td>\n",
       "      <td>1.000000</td>\n",
       "      <td>-0.107670</td>\n",
       "      <td>-0.040463</td>\n",
       "      <td>-0.097885</td>\n",
       "      <td>-0.055403</td>\n",
       "    </tr>\n",
       "    <tr>\n",
       "      <th>Crime</th>\n",
       "      <td>0.064442</td>\n",
       "      <td>-0.033275</td>\n",
       "      <td>0.060407</td>\n",
       "      <td>0.019539</td>\n",
       "      <td>0.259368</td>\n",
       "      <td>-0.168834</td>\n",
       "      <td>-0.107670</td>\n",
       "      <td>1.000000</td>\n",
       "      <td>-0.042234</td>\n",
       "      <td>0.056920</td>\n",
       "      <td>-0.055684</td>\n",
       "    </tr>\n",
       "    <tr>\n",
       "      <th>Comedy</th>\n",
       "      <td>0.133224</td>\n",
       "      <td>-0.038130</td>\n",
       "      <td>0.128274</td>\n",
       "      <td>-0.103757</td>\n",
       "      <td>-0.081057</td>\n",
       "      <td>0.041442</td>\n",
       "      <td>-0.040463</td>\n",
       "      <td>-0.042234</td>\n",
       "      <td>1.000000</td>\n",
       "      <td>-0.130061</td>\n",
       "      <td>-0.062690</td>\n",
       "    </tr>\n",
       "    <tr>\n",
       "      <th>Thriller</th>\n",
       "      <td>0.125646</td>\n",
       "      <td>-0.077962</td>\n",
       "      <td>0.125500</td>\n",
       "      <td>-0.206495</td>\n",
       "      <td>0.031834</td>\n",
       "      <td>-0.084869</td>\n",
       "      <td>-0.097885</td>\n",
       "      <td>0.056920</td>\n",
       "      <td>-0.130061</td>\n",
       "      <td>1.000000</td>\n",
       "      <td>0.039296</td>\n",
       "    </tr>\n",
       "    <tr>\n",
       "      <th>Horror</th>\n",
       "      <td>0.091087</td>\n",
       "      <td>-0.146410</td>\n",
       "      <td>0.095042</td>\n",
       "      <td>-0.172827</td>\n",
       "      <td>-0.102239</td>\n",
       "      <td>-0.067100</td>\n",
       "      <td>-0.055403</td>\n",
       "      <td>-0.055684</td>\n",
       "      <td>-0.062690</td>\n",
       "      <td>0.039296</td>\n",
       "      <td>1.000000</td>\n",
       "    </tr>\n",
       "  </tbody>\n",
       "</table>\n",
       "</div>"
      ],
      "text/plain": [
       "                     Year    Rating  YearCategorical     Drama    Action  \\\n",
       "Year             1.000000 -0.166673         0.984363 -0.094636  0.015254   \n",
       "Rating          -0.166673  1.000000        -0.173961  0.149719 -0.193820   \n",
       "YearCategorical  0.984363 -0.173961         1.000000 -0.092341  0.006582   \n",
       "Drama           -0.094636  0.149719        -0.092341  1.000000 -0.136819   \n",
       "Action           0.015254 -0.193820         0.006582 -0.136819  1.000000   \n",
       "Romance         -0.069263 -0.035512        -0.070023 -0.013415 -0.189377   \n",
       "Family          -0.148756  0.077348        -0.154520  0.110033 -0.162936   \n",
       "Crime            0.064442 -0.033275         0.060407  0.019539  0.259368   \n",
       "Comedy           0.133224 -0.038130         0.128274 -0.103757 -0.081057   \n",
       "Thriller         0.125646 -0.077962         0.125500 -0.206495  0.031834   \n",
       "Horror           0.091087 -0.146410         0.095042 -0.172827 -0.102239   \n",
       "\n",
       "                  Romance    Family     Crime    Comedy  Thriller    Horror  \n",
       "Year            -0.069263 -0.148756  0.064442  0.133224  0.125646  0.091087  \n",
       "Rating          -0.035512  0.077348 -0.033275 -0.038130 -0.077962 -0.146410  \n",
       "YearCategorical -0.070023 -0.154520  0.060407  0.128274  0.125500  0.095042  \n",
       "Drama           -0.013415  0.110033  0.019539 -0.103757 -0.206495 -0.172827  \n",
       "Action          -0.189377 -0.162936  0.259368 -0.081057  0.031834 -0.102239  \n",
       "Romance          1.000000 -0.073284 -0.168834  0.041442 -0.084869 -0.067100  \n",
       "Family          -0.073284  1.000000 -0.107670 -0.040463 -0.097885 -0.055403  \n",
       "Crime           -0.168834 -0.107670  1.000000 -0.042234  0.056920 -0.055684  \n",
       "Comedy           0.041442 -0.040463 -0.042234  1.000000 -0.130061 -0.062690  \n",
       "Thriller        -0.084869 -0.097885  0.056920 -0.130061  1.000000  0.039296  \n",
       "Horror          -0.067100 -0.055403 -0.055684 -0.062690  0.039296  1.000000  "
      ]
     },
     "execution_count": 355,
     "metadata": {},
     "output_type": "execute_result"
    }
   ],
   "source": [
    "df.corr()"
   ]
  },
  {
   "cell_type": "code",
   "execution_count": 356,
   "id": "323decd0",
   "metadata": {},
   "outputs": [],
   "source": [
    "# Making a feature whether the movie is before 1980 or after \n",
    "df[\"Before1980s\"] = 0 * len(df)\n",
    "i = 0\n",
    "for x in df[\"YearCategorical\"]:\n",
    "    if x >= 4:\n",
    "        df[\"Before1980s\"].iloc[i] = 1\n",
    "    i += 1"
   ]
  },
  {
   "cell_type": "code",
   "execution_count": 357,
   "id": "636d4359",
   "metadata": {},
   "outputs": [
    {
     "data": {
      "text/plain": [
       "1    5939\n",
       "0    1980\n",
       "Name: Before1980s, dtype: int64"
      ]
     },
     "execution_count": 357,
     "metadata": {},
     "output_type": "execute_result"
    }
   ],
   "source": [
    "df[\"Before1980s\"].value_counts()"
   ]
  },
  {
   "cell_type": "code",
   "execution_count": 358,
   "id": "8018db83",
   "metadata": {},
   "outputs": [
    {
     "data": {
      "text/plain": [
       "-0.24423318705541297"
      ]
     },
     "execution_count": 358,
     "metadata": {},
     "output_type": "execute_result"
    }
   ],
   "source": [
    "df[\"Before1980s\"].corr(df[\"Rating\"])"
   ]
  },
  {
   "cell_type": "markdown",
   "id": "5b20f949",
   "metadata": {},
   "source": [
    "* So,we got a feature 0.24 corelated to target feature"
   ]
  },
  {
   "cell_type": "code",
   "execution_count": 359,
   "id": "f259ab15",
   "metadata": {},
   "outputs": [],
   "source": [
    "# Biginer Actor feature\n",
    "df[\"Beginner Actor(1)\"] = 0  * len(df)\n",
    "i= 0\n",
    "\n",
    "for x in df[\"Actor 1\"]:\n",
    "    if df[\"Actor 1\"].value_counts().get(x) < 10:\n",
    "        df[\"Beginner Actor(1)\"].iloc[i]  = 1\n",
    "    i += 1"
   ]
  },
  {
   "cell_type": "code",
   "execution_count": 360,
   "id": "e6dba89f",
   "metadata": {},
   "outputs": [
    {
     "data": {
      "text/plain": [
       "-0.05966079360168248"
      ]
     },
     "execution_count": 360,
     "metadata": {},
     "output_type": "execute_result"
    }
   ],
   "source": [
    "df[\"Beginner Actor(1)\"].corr(df[\"Rating\"])"
   ]
  },
  {
   "cell_type": "code",
   "execution_count": 361,
   "id": "02d1ca01",
   "metadata": {},
   "outputs": [],
   "source": [
    "# Biginer Actor feature\n",
    "df[\"Top Actor(2)\"] = 0  * len(df)\n",
    "i= 0\n",
    "\n",
    "for x in df[\"Actor 2\"]:\n",
    "    if df[\"Actor 2\"].value_counts().get(x) > 40:\n",
    "        df[\"Top Actor(2)\"].iloc[i]  = 1\n",
    "    i += 1"
   ]
  },
  {
   "cell_type": "code",
   "execution_count": 362,
   "id": "33b1e84a",
   "metadata": {},
   "outputs": [
    {
     "data": {
      "text/plain": [
       "0.061479719581048614"
      ]
     },
     "execution_count": 362,
     "metadata": {},
     "output_type": "execute_result"
    }
   ],
   "source": [
    "df[\"Top Actor(2)\"].corr(df['Rating'])"
   ]
  },
  {
   "cell_type": "code",
   "execution_count": 363,
   "id": "223957a2",
   "metadata": {},
   "outputs": [],
   "source": [
    "# Biginer Actor feature\n",
    "df[\"Top Actor(3)\"] = 0  * len(df)\n",
    "i= 0\n",
    "\n",
    "for x in df[\"Actor 3\"]:\n",
    "    if df[\"Actor 3\"].value_counts().get(x) > 60:\n",
    "        df[\"Top Actor(3)\"].iloc[i]  = 1\n",
    "    i += 1"
   ]
  },
  {
   "cell_type": "code",
   "execution_count": 364,
   "id": "28ed1f58",
   "metadata": {},
   "outputs": [
    {
     "data": {
      "text/plain": [
       "0.10443437823999076"
      ]
     },
     "execution_count": 364,
     "metadata": {},
     "output_type": "execute_result"
    }
   ],
   "source": [
    "df[\"Top Actor(3)\"].corr(df['Rating'])"
   ]
  },
  {
   "cell_type": "code",
   "execution_count": 365,
   "id": "81518c25",
   "metadata": {},
   "outputs": [],
   "source": [
    "# replacing \",\", \"\"\n",
    "df[\"Votes\"] = df[\"Votes\"].str.replace(\",\",\"\")\n",
    "df[\"Votes\"] = df[\"Votes\"].astype(\"int\")"
   ]
  },
  {
   "cell_type": "code",
   "execution_count": 366,
   "id": "c3cb7851",
   "metadata": {},
   "outputs": [],
   "source": [
    "# High Votes or not\n",
    "df[\"HighVotes\"] = 0 * len(df)\n",
    "i = 0\n",
    "\n",
    "for x in df[\"Votes\"]:\n",
    "    if x > 9800:\n",
    "        df[\"HighVotes\"].iloc[i] = 1\n",
    "    i += 1"
   ]
  },
  {
   "cell_type": "code",
   "execution_count": 367,
   "id": "00427480",
   "metadata": {
    "scrolled": true
   },
   "outputs": [
    {
     "data": {
      "text/plain": [
       "0.17764246063705463"
      ]
     },
     "execution_count": 367,
     "metadata": {},
     "output_type": "execute_result"
    }
   ],
   "source": [
    "df[\"HighVotes\"].corr(df[\"Rating\"])"
   ]
  },
  {
   "cell_type": "markdown",
   "id": "b7f5c6f5",
   "metadata": {},
   "source": [
    "### CORELATION"
   ]
  },
  {
   "cell_type": "code",
   "execution_count": 368,
   "id": "6ed9ce36",
   "metadata": {},
   "outputs": [
    {
     "data": {
      "text/plain": [
       "Index(['Name', 'Year', 'Duration', 'Genre', 'Rating', 'Votes', 'Director',\n",
       "       'Actor 1', 'Actor 2', 'Actor 3', 'YearCategorical', 'Drama', 'Action',\n",
       "       'Romance', 'Family', 'Crime', 'Comedy', 'Thriller', 'Horror',\n",
       "       'Before1980s', 'Beginner Actor(1)', 'Top Actor(2)', 'Top Actor(3)',\n",
       "       'HighVotes'],\n",
       "      dtype='object')"
      ]
     },
     "execution_count": 368,
     "metadata": {},
     "output_type": "execute_result"
    }
   ],
   "source": [
    "df.columns"
   ]
  },
  {
   "cell_type": "code",
   "execution_count": 369,
   "id": "e5c0c56d",
   "metadata": {},
   "outputs": [
    {
     "data": {
      "image/png": "[encoded data removed]",
      "text/plain": [
       "<Figure size 1500x1500 with 2 Axes>"
      ]
     },
     "metadata": {},
     "output_type": "display_data"
    }
   ],
   "source": [
    "plt.figure(figsize=(15,15))\n",
    "plt.title(\"heat map: Corelation Matrix\")\n",
    "sns.heatmap(df.corr(),annot=True)\n",
    "plt.show()"
   ]
  },
  {
   "cell_type": "code",
   "execution_count": 370,
   "id": "bee4f7d8",
   "metadata": {},
   "outputs": [
    {
     "data": {
      "text/html": [
       "<div>\n",
       "<style scoped>\n",
       "    .dataframe tbody tr th:only-of-type {\n",
       "        vertical-align: middle;\n",
       "    }\n",
       "\n",
       "    .dataframe tbody tr th {\n",
       "        vertical-align: top;\n",
       "    }\n",
       "\n",
       "    .dataframe thead th {\n",
       "        text-align: right;\n",
       "    }\n",
       "</style>\n",
       "<table border=\"1\" class=\"dataframe\">\n",
       "  <thead>\n",
       "    <tr style=\"text-align: right;\">\n",
       "      <th></th>\n",
       "      <th>Name</th>\n",
       "      <th>Year</th>\n",
       "      <th>Duration</th>\n",
       "      <th>Genre</th>\n",
       "      <th>Rating</th>\n",
       "      <th>Votes</th>\n",
       "      <th>Director</th>\n",
       "      <th>Actor 1</th>\n",
       "      <th>Actor 2</th>\n",
       "      <th>Actor 3</th>\n",
       "      <th>YearCategorical</th>\n",
       "      <th>Drama</th>\n",
       "      <th>Action</th>\n",
       "      <th>Romance</th>\n",
       "      <th>Family</th>\n",
       "      <th>Crime</th>\n",
       "      <th>Comedy</th>\n",
       "      <th>Thriller</th>\n",
       "      <th>Horror</th>\n",
       "      <th>Before1980s</th>\n",
       "      <th>Beginner Actor(1)</th>\n",
       "      <th>Top Actor(2)</th>\n",
       "      <th>Top Actor(3)</th>\n",
       "      <th>HighVotes</th>\n",
       "    </tr>\n",
       "  </thead>\n",
       "  <tbody>\n",
       "    <tr>\n",
       "      <th>1</th>\n",
       "      <td>#Gadhvi (He thought he was Gandhi)</td>\n",
       "      <td>2019</td>\n",
       "      <td>109 min</td>\n",
       "      <td>Drama</td>\n",
       "      <td>7.0</td>\n",
       "      <td>8</td>\n",
       "      <td>Gaurav Bakshi</td>\n",
       "      <td>Rasika Dugal</td>\n",
       "      <td>Vivek Ghamande</td>\n",
       "      <td>Arvind Jangid</td>\n",
       "      <td>7</td>\n",
       "      <td>1</td>\n",
       "      <td>0</td>\n",
       "      <td>0</td>\n",
       "      <td>0</td>\n",
       "      <td>0</td>\n",
       "      <td>0</td>\n",
       "      <td>0</td>\n",
       "      <td>0</td>\n",
       "      <td>1</td>\n",
       "      <td>1</td>\n",
       "      <td>0</td>\n",
       "      <td>0</td>\n",
       "      <td>0</td>\n",
       "    </tr>\n",
       "    <tr>\n",
       "      <th>3</th>\n",
       "      <td>#Yaaram</td>\n",
       "      <td>2019</td>\n",
       "      <td>110 min</td>\n",
       "      <td>Comedy, Romance</td>\n",
       "      <td>4.4</td>\n",
       "      <td>35</td>\n",
       "      <td>Ovais Khan</td>\n",
       "      <td>Prateik</td>\n",
       "      <td>Ishita Raj</td>\n",
       "      <td>Siddhant Kapoor</td>\n",
       "      <td>7</td>\n",
       "      <td>0</td>\n",
       "      <td>0</td>\n",
       "      <td>1</td>\n",
       "      <td>0</td>\n",
       "      <td>0</td>\n",
       "      <td>1</td>\n",
       "      <td>0</td>\n",
       "      <td>0</td>\n",
       "      <td>1</td>\n",
       "      <td>1</td>\n",
       "      <td>0</td>\n",
       "      <td>0</td>\n",
       "      <td>0</td>\n",
       "    </tr>\n",
       "    <tr>\n",
       "      <th>5</th>\n",
       "      <td>...Aur Pyaar Ho Gaya</td>\n",
       "      <td>1997</td>\n",
       "      <td>147 min</td>\n",
       "      <td>Comedy, Drama, Musical</td>\n",
       "      <td>4.7</td>\n",
       "      <td>827</td>\n",
       "      <td>Rahul Rawail</td>\n",
       "      <td>Bobby Deol</td>\n",
       "      <td>Aishwarya Rai Bachchan</td>\n",
       "      <td>Shammi Kapoor</td>\n",
       "      <td>5</td>\n",
       "      <td>1</td>\n",
       "      <td>0</td>\n",
       "      <td>0</td>\n",
       "      <td>0</td>\n",
       "      <td>0</td>\n",
       "      <td>1</td>\n",
       "      <td>0</td>\n",
       "      <td>0</td>\n",
       "      <td>1</td>\n",
       "      <td>0</td>\n",
       "      <td>0</td>\n",
       "      <td>0</td>\n",
       "      <td>0</td>\n",
       "    </tr>\n",
       "    <tr>\n",
       "      <th>6</th>\n",
       "      <td>...Yahaan</td>\n",
       "      <td>2005</td>\n",
       "      <td>142 min</td>\n",
       "      <td>Drama, Romance, War</td>\n",
       "      <td>7.4</td>\n",
       "      <td>1086</td>\n",
       "      <td>Shoojit Sircar</td>\n",
       "      <td>Jimmy Sheirgill</td>\n",
       "      <td>Minissha Lamba</td>\n",
       "      <td>Yashpal Sharma</td>\n",
       "      <td>6</td>\n",
       "      <td>1</td>\n",
       "      <td>0</td>\n",
       "      <td>1</td>\n",
       "      <td>0</td>\n",
       "      <td>0</td>\n",
       "      <td>0</td>\n",
       "      <td>0</td>\n",
       "      <td>0</td>\n",
       "      <td>1</td>\n",
       "      <td>0</td>\n",
       "      <td>0</td>\n",
       "      <td>0</td>\n",
       "      <td>0</td>\n",
       "    </tr>\n",
       "    <tr>\n",
       "      <th>8</th>\n",
       "      <td>?: A Question Mark</td>\n",
       "      <td>2012</td>\n",
       "      <td>82 min</td>\n",
       "      <td>Horror, Mystery, Thriller</td>\n",
       "      <td>5.6</td>\n",
       "      <td>326</td>\n",
       "      <td>Allyson Patel</td>\n",
       "      <td>Yash Dave</td>\n",
       "      <td>Muntazir Ahmad</td>\n",
       "      <td>Kiran Bhatia</td>\n",
       "      <td>7</td>\n",
       "      <td>0</td>\n",
       "      <td>0</td>\n",
       "      <td>0</td>\n",
       "      <td>0</td>\n",
       "      <td>0</td>\n",
       "      <td>0</td>\n",
       "      <td>1</td>\n",
       "      <td>1</td>\n",
       "      <td>1</td>\n",
       "      <td>1</td>\n",
       "      <td>0</td>\n",
       "      <td>0</td>\n",
       "      <td>0</td>\n",
       "    </tr>\n",
       "  </tbody>\n",
       "</table>\n",
       "</div>"
      ],
      "text/plain": [
       "                                 Name  Year Duration  \\\n",
       "1  #Gadhvi (He thought he was Gandhi)  2019  109 min   \n",
       "3                             #Yaaram  2019  110 min   \n",
       "5                ...Aur Pyaar Ho Gaya  1997  147 min   \n",
       "6                           ...Yahaan  2005  142 min   \n",
       "8                  ?: A Question Mark  2012   82 min   \n",
       "\n",
       "                       Genre  Rating  Votes        Director          Actor 1  \\\n",
       "1                      Drama     7.0      8   Gaurav Bakshi     Rasika Dugal   \n",
       "3            Comedy, Romance     4.4     35      Ovais Khan          Prateik   \n",
       "5     Comedy, Drama, Musical     4.7    827    Rahul Rawail       Bobby Deol   \n",
       "6        Drama, Romance, War     7.4   1086  Shoojit Sircar  Jimmy Sheirgill   \n",
       "8  Horror, Mystery, Thriller     5.6    326   Allyson Patel        Yash Dave   \n",
       "\n",
       "                  Actor 2          Actor 3  YearCategorical  Drama  Action  \\\n",
       "1          Vivek Ghamande    Arvind Jangid                7      1       0   \n",
       "3              Ishita Raj  Siddhant Kapoor                7      0       0   \n",
       "5  Aishwarya Rai Bachchan    Shammi Kapoor                5      1       0   \n",
       "6          Minissha Lamba   Yashpal Sharma                6      1       0   \n",
       "8          Muntazir Ahmad     Kiran Bhatia                7      0       0   \n",
       "\n",
       "   Romance  Family  Crime  Comedy  Thriller  Horror  Before1980s  \\\n",
       "1        0       0      0       0         0       0            1   \n",
       "3        1       0      0       1         0       0            1   \n",
       "5        0       0      0       1         0       0            1   \n",
       "6        1       0      0       0         0       0            1   \n",
       "8        0       0      0       0         1       1            1   \n",
       "\n",
       "   Beginner Actor(1)  Top Actor(2)  Top Actor(3)  HighVotes  \n",
       "1                  1             0             0          0  \n",
       "3                  1             0             0          0  \n",
       "5                  0             0             0          0  \n",
       "6                  0             0             0          0  \n",
       "8                  1             0             0          0  "
      ]
     },
     "execution_count": 370,
     "metadata": {},
     "output_type": "execute_result"
    }
   ],
   "source": [
    "df.head()"
   ]
  },
  {
   "cell_type": "code",
   "execution_count": 371,
   "id": "5028810c",
   "metadata": {},
   "outputs": [
    {
     "data": {
      "text/plain": [
       "(7919, 24)"
      ]
     },
     "execution_count": 371,
     "metadata": {},
     "output_type": "execute_result"
    }
   ],
   "source": [
    "df.shape"
   ]
  },
  {
   "cell_type": "markdown",
   "id": "4e2832b5",
   "metadata": {},
   "source": [
    "### ENCODING CATEGORICAL FEATURES"
   ]
  },
  {
   "cell_type": "code",
   "execution_count": 372,
   "id": "0f965a0d",
   "metadata": {},
   "outputs": [],
   "source": [
    "# Encoding with frequency\n",
    "df[\"DirNoFlim\"] = df[\"Director\"].map(dict(df[\"Director\"].value_counts()))\n",
    "df[\"Actor1NoFlim\"] = df[\"Actor 1\"].map(dict(df[\"Actor 1\"].value_counts()))\n",
    "df[\"Actor2Flim\"] = df[\"Actor 2\"].map(dict(df[\"Actor 2\"].value_counts()))\n",
    "df[\"Actor3Flim\"] = df[\"Actor 3\"].map(dict(df[\"Actor 3\"].value_counts()))\n",
    "df[\"GenreEncoded\"] = df[\"Genre\"].map(dict(df[\"Genre\"].value_counts()))"
   ]
  },
  {
   "cell_type": "code",
   "execution_count": 373,
   "id": "20cad45f",
   "metadata": {},
   "outputs": [
    {
     "data": {
      "text/plain": [
       "0.003252577569194935"
      ]
     },
     "execution_count": 373,
     "metadata": {},
     "output_type": "execute_result"
    }
   ],
   "source": [
    "df[\"DirNoFlim\"].corr(df[\"Rating\"])"
   ]
  },
  {
   "cell_type": "code",
   "execution_count": 374,
   "id": "72cf98a0",
   "metadata": {},
   "outputs": [
    {
     "data": {
      "text/html": [
       "<div>\n",
       "<style scoped>\n",
       "    .dataframe tbody tr th:only-of-type {\n",
       "        vertical-align: middle;\n",
       "    }\n",
       "\n",
       "    .dataframe tbody tr th {\n",
       "        vertical-align: top;\n",
       "    }\n",
       "\n",
       "    .dataframe thead th {\n",
       "        text-align: right;\n",
       "    }\n",
       "</style>\n",
       "<table border=\"1\" class=\"dataframe\">\n",
       "  <thead>\n",
       "    <tr style=\"text-align: right;\">\n",
       "      <th></th>\n",
       "      <th>Year</th>\n",
       "      <th>Rating</th>\n",
       "      <th>Votes</th>\n",
       "      <th>YearCategorical</th>\n",
       "      <th>Drama</th>\n",
       "      <th>Action</th>\n",
       "      <th>Romance</th>\n",
       "      <th>Family</th>\n",
       "      <th>Crime</th>\n",
       "      <th>Comedy</th>\n",
       "      <th>Thriller</th>\n",
       "      <th>Horror</th>\n",
       "      <th>Before1980s</th>\n",
       "      <th>Beginner Actor(1)</th>\n",
       "      <th>Top Actor(2)</th>\n",
       "      <th>Top Actor(3)</th>\n",
       "      <th>HighVotes</th>\n",
       "      <th>DirNoFlim</th>\n",
       "      <th>Actor1NoFlim</th>\n",
       "      <th>Actor2Flim</th>\n",
       "      <th>Actor3Flim</th>\n",
       "      <th>GenreEncoded</th>\n",
       "    </tr>\n",
       "  </thead>\n",
       "  <tbody>\n",
       "    <tr>\n",
       "      <th>Year</th>\n",
       "      <td>1.000000</td>\n",
       "      <td>-0.166673</td>\n",
       "      <td>0.129016</td>\n",
       "      <td>0.984363</td>\n",
       "      <td>-0.094636</td>\n",
       "      <td>0.015254</td>\n",
       "      <td>-0.069263</td>\n",
       "      <td>-0.148756</td>\n",
       "      <td>0.064442</td>\n",
       "      <td>0.133224</td>\n",
       "      <td>0.125646</td>\n",
       "      <td>0.091087</td>\n",
       "      <td>0.813561</td>\n",
       "      <td>0.277231</td>\n",
       "      <td>-0.079233</td>\n",
       "      <td>0.004958</td>\n",
       "      <td>0.177769</td>\n",
       "      <td>-0.253795</td>\n",
       "      <td>-0.223884</td>\n",
       "      <td>-0.084146</td>\n",
       "      <td>0.007521</td>\n",
       "      <td>-0.087407</td>\n",
       "    </tr>\n",
       "    <tr>\n",
       "      <th>Rating</th>\n",
       "      <td>-0.166673</td>\n",
       "      <td>1.000000</td>\n",
       "      <td>0.126635</td>\n",
       "      <td>-0.173961</td>\n",
       "      <td>0.149719</td>\n",
       "      <td>-0.193820</td>\n",
       "      <td>-0.035512</td>\n",
       "      <td>0.077348</td>\n",
       "      <td>-0.033275</td>\n",
       "      <td>-0.038130</td>\n",
       "      <td>-0.077962</td>\n",
       "      <td>-0.146410</td>\n",
       "      <td>-0.244233</td>\n",
       "      <td>-0.059661</td>\n",
       "      <td>0.061480</td>\n",
       "      <td>0.104434</td>\n",
       "      <td>0.177642</td>\n",
       "      <td>0.003253</td>\n",
       "      <td>0.036104</td>\n",
       "      <td>0.093136</td>\n",
       "      <td>0.093126</td>\n",
       "      <td>0.121925</td>\n",
       "    </tr>\n",
       "    <tr>\n",
       "      <th>Votes</th>\n",
       "      <td>0.129016</td>\n",
       "      <td>0.126635</td>\n",
       "      <td>1.000000</td>\n",
       "      <td>0.131660</td>\n",
       "      <td>0.047928</td>\n",
       "      <td>0.016013</td>\n",
       "      <td>-0.000308</td>\n",
       "      <td>-0.024695</td>\n",
       "      <td>0.037509</td>\n",
       "      <td>0.080001</td>\n",
       "      <td>0.000261</td>\n",
       "      <td>-0.014059</td>\n",
       "      <td>0.086829</td>\n",
       "      <td>-0.037081</td>\n",
       "      <td>-0.038098</td>\n",
       "      <td>-0.034730</td>\n",
       "      <td>0.553981</td>\n",
       "      <td>-0.019556</td>\n",
       "      <td>-0.010025</td>\n",
       "      <td>-0.032116</td>\n",
       "      <td>-0.036597</td>\n",
       "      <td>-0.065006</td>\n",
       "    </tr>\n",
       "    <tr>\n",
       "      <th>YearCategorical</th>\n",
       "      <td>0.984363</td>\n",
       "      <td>-0.173961</td>\n",
       "      <td>0.131660</td>\n",
       "      <td>1.000000</td>\n",
       "      <td>-0.092341</td>\n",
       "      <td>0.006582</td>\n",
       "      <td>-0.070023</td>\n",
       "      <td>-0.154520</td>\n",
       "      <td>0.060407</td>\n",
       "      <td>0.128274</td>\n",
       "      <td>0.125500</td>\n",
       "      <td>0.095042</td>\n",
       "      <td>0.822460</td>\n",
       "      <td>0.295887</td>\n",
       "      <td>-0.080537</td>\n",
       "      <td>0.012786</td>\n",
       "      <td>0.178399</td>\n",
       "      <td>-0.262939</td>\n",
       "      <td>-0.237699</td>\n",
       "      <td>-0.083195</td>\n",
       "      <td>0.014862</td>\n",
       "      <td>-0.075862</td>\n",
       "    </tr>\n",
       "    <tr>\n",
       "      <th>Drama</th>\n",
       "      <td>-0.094636</td>\n",
       "      <td>0.149719</td>\n",
       "      <td>0.047928</td>\n",
       "      <td>-0.092341</td>\n",
       "      <td>1.000000</td>\n",
       "      <td>-0.136819</td>\n",
       "      <td>-0.013415</td>\n",
       "      <td>0.110033</td>\n",
       "      <td>0.019539</td>\n",
       "      <td>-0.103757</td>\n",
       "      <td>-0.206495</td>\n",
       "      <td>-0.172827</td>\n",
       "      <td>-0.086809</td>\n",
       "      <td>-0.066939</td>\n",
       "      <td>-0.039788</td>\n",
       "      <td>-0.114673</td>\n",
       "      <td>0.063762</td>\n",
       "      <td>0.027816</td>\n",
       "      <td>0.035128</td>\n",
       "      <td>-0.064396</td>\n",
       "      <td>-0.117594</td>\n",
       "      <td>0.370770</td>\n",
       "    </tr>\n",
       "    <tr>\n",
       "      <th>Action</th>\n",
       "      <td>0.015254</td>\n",
       "      <td>-0.193820</td>\n",
       "      <td>0.016013</td>\n",
       "      <td>0.006582</td>\n",
       "      <td>-0.136819</td>\n",
       "      <td>1.000000</td>\n",
       "      <td>-0.189377</td>\n",
       "      <td>-0.162936</td>\n",
       "      <td>0.259368</td>\n",
       "      <td>-0.081057</td>\n",
       "      <td>0.031834</td>\n",
       "      <td>-0.102239</td>\n",
       "      <td>0.112606</td>\n",
       "      <td>-0.179609</td>\n",
       "      <td>0.023247</td>\n",
       "      <td>-0.063419</td>\n",
       "      <td>0.046782</td>\n",
       "      <td>0.150367</td>\n",
       "      <td>0.172294</td>\n",
       "      <td>0.016379</td>\n",
       "      <td>-0.039671</td>\n",
       "      <td>-0.207057</td>\n",
       "    </tr>\n",
       "    <tr>\n",
       "      <th>Romance</th>\n",
       "      <td>-0.069263</td>\n",
       "      <td>-0.035512</td>\n",
       "      <td>-0.000308</td>\n",
       "      <td>-0.070023</td>\n",
       "      <td>-0.013415</td>\n",
       "      <td>-0.189377</td>\n",
       "      <td>1.000000</td>\n",
       "      <td>-0.073284</td>\n",
       "      <td>-0.168834</td>\n",
       "      <td>0.041442</td>\n",
       "      <td>-0.084869</td>\n",
       "      <td>-0.067100</td>\n",
       "      <td>-0.071727</td>\n",
       "      <td>-0.066004</td>\n",
       "      <td>-0.029172</td>\n",
       "      <td>-0.065516</td>\n",
       "      <td>0.017670</td>\n",
       "      <td>0.037733</td>\n",
       "      <td>0.035002</td>\n",
       "      <td>-0.032235</td>\n",
       "      <td>-0.068208</td>\n",
       "      <td>-0.187785</td>\n",
       "    </tr>\n",
       "    <tr>\n",
       "      <th>Family</th>\n",
       "      <td>-0.148756</td>\n",
       "      <td>0.077348</td>\n",
       "      <td>-0.024695</td>\n",
       "      <td>-0.154520</td>\n",
       "      <td>0.110033</td>\n",
       "      <td>-0.162936</td>\n",
       "      <td>-0.073284</td>\n",
       "      <td>1.000000</td>\n",
       "      <td>-0.107670</td>\n",
       "      <td>-0.040463</td>\n",
       "      <td>-0.097885</td>\n",
       "      <td>-0.055403</td>\n",
       "      <td>-0.156066</td>\n",
       "      <td>-0.063710</td>\n",
       "      <td>0.027065</td>\n",
       "      <td>-0.027599</td>\n",
       "      <td>-0.049118</td>\n",
       "      <td>0.025303</td>\n",
       "      <td>0.062879</td>\n",
       "      <td>0.018280</td>\n",
       "      <td>-0.019535</td>\n",
       "      <td>-0.143669</td>\n",
       "    </tr>\n",
       "    <tr>\n",
       "      <th>Crime</th>\n",
       "      <td>0.064442</td>\n",
       "      <td>-0.033275</td>\n",
       "      <td>0.037509</td>\n",
       "      <td>0.060407</td>\n",
       "      <td>0.019539</td>\n",
       "      <td>0.259368</td>\n",
       "      <td>-0.168834</td>\n",
       "      <td>-0.107670</td>\n",
       "      <td>1.000000</td>\n",
       "      <td>-0.042234</td>\n",
       "      <td>0.056920</td>\n",
       "      <td>-0.055684</td>\n",
       "      <td>0.063635</td>\n",
       "      <td>-0.079823</td>\n",
       "      <td>-0.030413</td>\n",
       "      <td>-0.066569</td>\n",
       "      <td>0.084053</td>\n",
       "      <td>0.039802</td>\n",
       "      <td>0.051339</td>\n",
       "      <td>-0.033187</td>\n",
       "      <td>-0.066610</td>\n",
       "      <td>-0.154271</td>\n",
       "    </tr>\n",
       "    <tr>\n",
       "      <th>Comedy</th>\n",
       "      <td>0.133224</td>\n",
       "      <td>-0.038130</td>\n",
       "      <td>0.080001</td>\n",
       "      <td>0.128274</td>\n",
       "      <td>-0.103757</td>\n",
       "      <td>-0.081057</td>\n",
       "      <td>0.041442</td>\n",
       "      <td>-0.040463</td>\n",
       "      <td>-0.042234</td>\n",
       "      <td>1.000000</td>\n",
       "      <td>-0.130061</td>\n",
       "      <td>-0.062690</td>\n",
       "      <td>0.072693</td>\n",
       "      <td>-0.024190</td>\n",
       "      <td>-0.079227</td>\n",
       "      <td>-0.069518</td>\n",
       "      <td>0.117286</td>\n",
       "      <td>-0.012560</td>\n",
       "      <td>-0.026631</td>\n",
       "      <td>-0.076757</td>\n",
       "      <td>-0.073783</td>\n",
       "      <td>-0.243104</td>\n",
       "    </tr>\n",
       "    <tr>\n",
       "      <th>Thriller</th>\n",
       "      <td>0.125646</td>\n",
       "      <td>-0.077962</td>\n",
       "      <td>0.000261</td>\n",
       "      <td>0.125500</td>\n",
       "      <td>-0.206495</td>\n",
       "      <td>0.031834</td>\n",
       "      <td>-0.084869</td>\n",
       "      <td>-0.097885</td>\n",
       "      <td>0.056920</td>\n",
       "      <td>-0.130061</td>\n",
       "      <td>1.000000</td>\n",
       "      <td>0.039296</td>\n",
       "      <td>0.083700</td>\n",
       "      <td>0.029919</td>\n",
       "      <td>-0.041466</td>\n",
       "      <td>-0.033700</td>\n",
       "      <td>0.001209</td>\n",
       "      <td>-0.015034</td>\n",
       "      <td>-0.033233</td>\n",
       "      <td>-0.056303</td>\n",
       "      <td>-0.045296</td>\n",
       "      <td>-0.236393</td>\n",
       "    </tr>\n",
       "    <tr>\n",
       "      <th>Horror</th>\n",
       "      <td>0.091087</td>\n",
       "      <td>-0.146410</td>\n",
       "      <td>-0.014059</td>\n",
       "      <td>0.095042</td>\n",
       "      <td>-0.172827</td>\n",
       "      <td>-0.102239</td>\n",
       "      <td>-0.067100</td>\n",
       "      <td>-0.055403</td>\n",
       "      <td>-0.055684</td>\n",
       "      <td>-0.062690</td>\n",
       "      <td>0.039296</td>\n",
       "      <td>1.000000</td>\n",
       "      <td>0.086859</td>\n",
       "      <td>0.078892</td>\n",
       "      <td>-0.041244</td>\n",
       "      <td>-0.019438</td>\n",
       "      <td>-0.020942</td>\n",
       "      <td>-0.007597</td>\n",
       "      <td>-0.079627</td>\n",
       "      <td>-0.056118</td>\n",
       "      <td>-0.024689</td>\n",
       "      <td>-0.126521</td>\n",
       "    </tr>\n",
       "    <tr>\n",
       "      <th>Before1980s</th>\n",
       "      <td>0.813561</td>\n",
       "      <td>-0.244233</td>\n",
       "      <td>0.086829</td>\n",
       "      <td>0.822460</td>\n",
       "      <td>-0.086809</td>\n",
       "      <td>0.112606</td>\n",
       "      <td>-0.071727</td>\n",
       "      <td>-0.156066</td>\n",
       "      <td>0.063635</td>\n",
       "      <td>0.072693</td>\n",
       "      <td>0.083700</td>\n",
       "      <td>0.086859</td>\n",
       "      <td>1.000000</td>\n",
       "      <td>0.185542</td>\n",
       "      <td>-0.060240</td>\n",
       "      <td>-0.011428</td>\n",
       "      <td>0.115057</td>\n",
       "      <td>-0.131913</td>\n",
       "      <td>-0.136631</td>\n",
       "      <td>-0.057706</td>\n",
       "      <td>0.014984</td>\n",
       "      <td>-0.053383</td>\n",
       "    </tr>\n",
       "    <tr>\n",
       "      <th>Beginner Actor(1)</th>\n",
       "      <td>0.277231</td>\n",
       "      <td>-0.059661</td>\n",
       "      <td>-0.037081</td>\n",
       "      <td>0.295887</td>\n",
       "      <td>-0.066939</td>\n",
       "      <td>-0.179609</td>\n",
       "      <td>-0.066004</td>\n",
       "      <td>-0.063710</td>\n",
       "      <td>-0.079823</td>\n",
       "      <td>-0.024190</td>\n",
       "      <td>0.029919</td>\n",
       "      <td>0.078892</td>\n",
       "      <td>0.185542</td>\n",
       "      <td>1.000000</td>\n",
       "      <td>-0.172828</td>\n",
       "      <td>-0.022341</td>\n",
       "      <td>-0.080997</td>\n",
       "      <td>-0.297222</td>\n",
       "      <td>-0.669909</td>\n",
       "      <td>-0.245147</td>\n",
       "      <td>-0.058449</td>\n",
       "      <td>0.110818</td>\n",
       "    </tr>\n",
       "    <tr>\n",
       "      <th>Top Actor(2)</th>\n",
       "      <td>-0.079233</td>\n",
       "      <td>0.061480</td>\n",
       "      <td>-0.038098</td>\n",
       "      <td>-0.080537</td>\n",
       "      <td>-0.039788</td>\n",
       "      <td>0.023247</td>\n",
       "      <td>-0.029172</td>\n",
       "      <td>0.027065</td>\n",
       "      <td>-0.030413</td>\n",
       "      <td>-0.079227</td>\n",
       "      <td>-0.041466</td>\n",
       "      <td>-0.041244</td>\n",
       "      <td>-0.060240</td>\n",
       "      <td>-0.172828</td>\n",
       "      <td>1.000000</td>\n",
       "      <td>0.398333</td>\n",
       "      <td>-0.049385</td>\n",
       "      <td>0.064330</td>\n",
       "      <td>0.271979</td>\n",
       "      <td>0.757551</td>\n",
       "      <td>0.453887</td>\n",
       "      <td>-0.000175</td>\n",
       "    </tr>\n",
       "    <tr>\n",
       "      <th>Top Actor(3)</th>\n",
       "      <td>0.004958</td>\n",
       "      <td>0.104434</td>\n",
       "      <td>-0.034730</td>\n",
       "      <td>0.012786</td>\n",
       "      <td>-0.114673</td>\n",
       "      <td>-0.063419</td>\n",
       "      <td>-0.065516</td>\n",
       "      <td>-0.027599</td>\n",
       "      <td>-0.066569</td>\n",
       "      <td>-0.069518</td>\n",
       "      <td>-0.033700</td>\n",
       "      <td>-0.019438</td>\n",
       "      <td>-0.011428</td>\n",
       "      <td>-0.022341</td>\n",
       "      <td>0.398333</td>\n",
       "      <td>1.000000</td>\n",
       "      <td>-0.044257</td>\n",
       "      <td>-0.048003</td>\n",
       "      <td>0.136208</td>\n",
       "      <td>0.647727</td>\n",
       "      <td>0.918337</td>\n",
       "      <td>0.014440</td>\n",
       "    </tr>\n",
       "    <tr>\n",
       "      <th>HighVotes</th>\n",
       "      <td>0.177769</td>\n",
       "      <td>0.177642</td>\n",
       "      <td>0.553981</td>\n",
       "      <td>0.178399</td>\n",
       "      <td>0.063762</td>\n",
       "      <td>0.046782</td>\n",
       "      <td>0.017670</td>\n",
       "      <td>-0.049118</td>\n",
       "      <td>0.084053</td>\n",
       "      <td>0.117286</td>\n",
       "      <td>0.001209</td>\n",
       "      <td>-0.020942</td>\n",
       "      <td>0.115057</td>\n",
       "      <td>-0.080997</td>\n",
       "      <td>-0.049385</td>\n",
       "      <td>-0.044257</td>\n",
       "      <td>1.000000</td>\n",
       "      <td>-0.015726</td>\n",
       "      <td>0.012111</td>\n",
       "      <td>-0.040750</td>\n",
       "      <td>-0.045055</td>\n",
       "      <td>-0.083917</td>\n",
       "    </tr>\n",
       "    <tr>\n",
       "      <th>DirNoFlim</th>\n",
       "      <td>-0.253795</td>\n",
       "      <td>0.003253</td>\n",
       "      <td>-0.019556</td>\n",
       "      <td>-0.262939</td>\n",
       "      <td>0.027816</td>\n",
       "      <td>0.150367</td>\n",
       "      <td>0.037733</td>\n",
       "      <td>0.025303</td>\n",
       "      <td>0.039802</td>\n",
       "      <td>-0.012560</td>\n",
       "      <td>-0.015034</td>\n",
       "      <td>-0.007597</td>\n",
       "      <td>-0.131913</td>\n",
       "      <td>-0.297222</td>\n",
       "      <td>0.064330</td>\n",
       "      <td>-0.048003</td>\n",
       "      <td>-0.015726</td>\n",
       "      <td>1.000000</td>\n",
       "      <td>0.280366</td>\n",
       "      <td>0.072428</td>\n",
       "      <td>-0.025893</td>\n",
       "      <td>-0.040952</td>\n",
       "    </tr>\n",
       "    <tr>\n",
       "      <th>Actor1NoFlim</th>\n",
       "      <td>-0.223884</td>\n",
       "      <td>0.036104</td>\n",
       "      <td>-0.010025</td>\n",
       "      <td>-0.237699</td>\n",
       "      <td>0.035128</td>\n",
       "      <td>0.172294</td>\n",
       "      <td>0.035002</td>\n",
       "      <td>0.062879</td>\n",
       "      <td>0.051339</td>\n",
       "      <td>-0.026631</td>\n",
       "      <td>-0.033233</td>\n",
       "      <td>-0.079627</td>\n",
       "      <td>-0.136631</td>\n",
       "      <td>-0.669909</td>\n",
       "      <td>0.271979</td>\n",
       "      <td>0.136208</td>\n",
       "      <td>0.012111</td>\n",
       "      <td>0.280366</td>\n",
       "      <td>1.000000</td>\n",
       "      <td>0.378898</td>\n",
       "      <td>0.181626</td>\n",
       "      <td>-0.078076</td>\n",
       "    </tr>\n",
       "    <tr>\n",
       "      <th>Actor2Flim</th>\n",
       "      <td>-0.084146</td>\n",
       "      <td>0.093136</td>\n",
       "      <td>-0.032116</td>\n",
       "      <td>-0.083195</td>\n",
       "      <td>-0.064396</td>\n",
       "      <td>0.016379</td>\n",
       "      <td>-0.032235</td>\n",
       "      <td>0.018280</td>\n",
       "      <td>-0.033187</td>\n",
       "      <td>-0.076757</td>\n",
       "      <td>-0.056303</td>\n",
       "      <td>-0.056118</td>\n",
       "      <td>-0.057706</td>\n",
       "      <td>-0.245147</td>\n",
       "      <td>0.757551</td>\n",
       "      <td>0.647727</td>\n",
       "      <td>-0.040750</td>\n",
       "      <td>0.072428</td>\n",
       "      <td>0.378898</td>\n",
       "      <td>1.000000</td>\n",
       "      <td>0.728326</td>\n",
       "      <td>-0.029724</td>\n",
       "    </tr>\n",
       "    <tr>\n",
       "      <th>Actor3Flim</th>\n",
       "      <td>0.007521</td>\n",
       "      <td>0.093126</td>\n",
       "      <td>-0.036597</td>\n",
       "      <td>0.014862</td>\n",
       "      <td>-0.117594</td>\n",
       "      <td>-0.039671</td>\n",
       "      <td>-0.068208</td>\n",
       "      <td>-0.019535</td>\n",
       "      <td>-0.066610</td>\n",
       "      <td>-0.073783</td>\n",
       "      <td>-0.045296</td>\n",
       "      <td>-0.024689</td>\n",
       "      <td>0.014984</td>\n",
       "      <td>-0.058449</td>\n",
       "      <td>0.453887</td>\n",
       "      <td>0.918337</td>\n",
       "      <td>-0.045055</td>\n",
       "      <td>-0.025893</td>\n",
       "      <td>0.181626</td>\n",
       "      <td>0.728326</td>\n",
       "      <td>1.000000</td>\n",
       "      <td>0.009674</td>\n",
       "    </tr>\n",
       "    <tr>\n",
       "      <th>GenreEncoded</th>\n",
       "      <td>-0.087407</td>\n",
       "      <td>0.121925</td>\n",
       "      <td>-0.065006</td>\n",
       "      <td>-0.075862</td>\n",
       "      <td>0.370770</td>\n",
       "      <td>-0.207057</td>\n",
       "      <td>-0.187785</td>\n",
       "      <td>-0.143669</td>\n",
       "      <td>-0.154271</td>\n",
       "      <td>-0.243104</td>\n",
       "      <td>-0.236393</td>\n",
       "      <td>-0.126521</td>\n",
       "      <td>-0.053383</td>\n",
       "      <td>0.110818</td>\n",
       "      <td>-0.000175</td>\n",
       "      <td>0.014440</td>\n",
       "      <td>-0.083917</td>\n",
       "      <td>-0.040952</td>\n",
       "      <td>-0.078076</td>\n",
       "      <td>-0.029724</td>\n",
       "      <td>0.009674</td>\n",
       "      <td>1.000000</td>\n",
       "    </tr>\n",
       "  </tbody>\n",
       "</table>\n",
       "</div>"
      ],
      "text/plain": [
       "                       Year    Rating     Votes  YearCategorical     Drama  \\\n",
       "Year               1.000000 -0.166673  0.129016         0.984363 -0.094636   \n",
       "Rating            -0.166673  1.000000  0.126635        -0.173961  0.149719   \n",
       "Votes              0.129016  0.126635  1.000000         0.131660  0.047928   \n",
       "YearCategorical    0.984363 -0.173961  0.131660         1.000000 -0.092341   \n",
       "Drama             -0.094636  0.149719  0.047928        -0.092341  1.000000   \n",
       "Action             0.015254 -0.193820  0.016013         0.006582 -0.136819   \n",
       "Romance           -0.069263 -0.035512 -0.000308        -0.070023 -0.013415   \n",
       "Family            -0.148756  0.077348 -0.024695        -0.154520  0.110033   \n",
       "Crime              0.064442 -0.033275  0.037509         0.060407  0.019539   \n",
       "Comedy             0.133224 -0.038130  0.080001         0.128274 -0.103757   \n",
       "Thriller           0.125646 -0.077962  0.000261         0.125500 -0.206495   \n",
       "Horror             0.091087 -0.146410 -0.014059         0.095042 -0.172827   \n",
       "Before1980s        0.813561 -0.244233  0.086829         0.822460 -0.086809   \n",
       "Beginner Actor(1)  0.277231 -0.059661 -0.037081         0.295887 -0.066939   \n",
       "Top Actor(2)      -0.079233  0.061480 -0.038098        -0.080537 -0.039788   \n",
       "Top Actor(3)       0.004958  0.104434 -0.034730         0.012786 -0.114673   \n",
       "HighVotes          0.177769  0.177642  0.553981         0.178399  0.063762   \n",
       "DirNoFlim         -0.253795  0.003253 -0.019556        -0.262939  0.027816   \n",
       "Actor1NoFlim      -0.223884  0.036104 -0.010025        -0.237699  0.035128   \n",
       "Actor2Flim        -0.084146  0.093136 -0.032116        -0.083195 -0.064396   \n",
       "Actor3Flim         0.007521  0.093126 -0.036597         0.014862 -0.117594   \n",
       "GenreEncoded      -0.087407  0.121925 -0.065006        -0.075862  0.370770   \n",
       "\n",
       "                     Action   Romance    Family     Crime    Comedy  Thriller  \\\n",
       "Year               0.015254 -0.069263 -0.148756  0.064442  0.133224  0.125646   \n",
       "Rating            -0.193820 -0.035512  0.077348 -0.033275 -0.038130 -0.077962   \n",
       "Votes              0.016013 -0.000308 -0.024695  0.037509  0.080001  0.000261   \n",
       "YearCategorical    0.006582 -0.070023 -0.154520  0.060407  0.128274  0.125500   \n",
       "Drama             -0.136819 -0.013415  0.110033  0.019539 -0.103757 -0.206495   \n",
       "Action             1.000000 -0.189377 -0.162936  0.259368 -0.081057  0.031834   \n",
       "Romance           -0.189377  1.000000 -0.073284 -0.168834  0.041442 -0.084869   \n",
       "Family            -0.162936 -0.073284  1.000000 -0.107670 -0.040463 -0.097885   \n",
       "Crime              0.259368 -0.168834 -0.107670  1.000000 -0.042234  0.056920   \n",
       "Comedy            -0.081057  0.041442 -0.040463 -0.042234  1.000000 -0.130061   \n",
       "Thriller           0.031834 -0.084869 -0.097885  0.056920 -0.130061  1.000000   \n",
       "Horror            -0.102239 -0.067100 -0.055403 -0.055684 -0.062690  0.039296   \n",
       "Before1980s        0.112606 -0.071727 -0.156066  0.063635  0.072693  0.083700   \n",
       "Beginner Actor(1) -0.179609 -0.066004 -0.063710 -0.079823 -0.024190  0.029919   \n",
       "Top Actor(2)       0.023247 -0.029172  0.027065 -0.030413 -0.079227 -0.041466   \n",
       "Top Actor(3)      -0.063419 -0.065516 -0.027599 -0.066569 -0.069518 -0.033700   \n",
       "HighVotes          0.046782  0.017670 -0.049118  0.084053  0.117286  0.001209   \n",
       "DirNoFlim          0.150367  0.037733  0.025303  0.039802 -0.012560 -0.015034   \n",
       "Actor1NoFlim       0.172294  0.035002  0.062879  0.051339 -0.026631 -0.033233   \n",
       "Actor2Flim         0.016379 -0.032235  0.018280 -0.033187 -0.076757 -0.056303   \n",
       "Actor3Flim        -0.039671 -0.068208 -0.019535 -0.066610 -0.073783 -0.045296   \n",
       "GenreEncoded      -0.207057 -0.187785 -0.143669 -0.154271 -0.243104 -0.236393   \n",
       "\n",
       "                     Horror  Before1980s  Beginner Actor(1)  Top Actor(2)  \\\n",
       "Year               0.091087     0.813561           0.277231     -0.079233   \n",
       "Rating            -0.146410    -0.244233          -0.059661      0.061480   \n",
       "Votes             -0.014059     0.086829          -0.037081     -0.038098   \n",
       "YearCategorical    0.095042     0.822460           0.295887     -0.080537   \n",
       "Drama             -0.172827    -0.086809          -0.066939     -0.039788   \n",
       "Action            -0.102239     0.112606          -0.179609      0.023247   \n",
       "Romance           -0.067100    -0.071727          -0.066004     -0.029172   \n",
       "Family            -0.055403    -0.156066          -0.063710      0.027065   \n",
       "Crime             -0.055684     0.063635          -0.079823     -0.030413   \n",
       "Comedy            -0.062690     0.072693          -0.024190     -0.079227   \n",
       "Thriller           0.039296     0.083700           0.029919     -0.041466   \n",
       "Horror             1.000000     0.086859           0.078892     -0.041244   \n",
       "Before1980s        0.086859     1.000000           0.185542     -0.060240   \n",
       "Beginner Actor(1)  0.078892     0.185542           1.000000     -0.172828   \n",
       "Top Actor(2)      -0.041244    -0.060240          -0.172828      1.000000   \n",
       "Top Actor(3)      -0.019438    -0.011428          -0.022341      0.398333   \n",
       "HighVotes         -0.020942     0.115057          -0.080997     -0.049385   \n",
       "DirNoFlim         -0.007597    -0.131913          -0.297222      0.064330   \n",
       "Actor1NoFlim      -0.079627    -0.136631          -0.669909      0.271979   \n",
       "Actor2Flim        -0.056118    -0.057706          -0.245147      0.757551   \n",
       "Actor3Flim        -0.024689     0.014984          -0.058449      0.453887   \n",
       "GenreEncoded      -0.126521    -0.053383           0.110818     -0.000175   \n",
       "\n",
       "                   Top Actor(3)  HighVotes  DirNoFlim  Actor1NoFlim  \\\n",
       "Year                   0.004958   0.177769  -0.253795     -0.223884   \n",
       "Rating                 0.104434   0.177642   0.003253      0.036104   \n",
       "Votes                 -0.034730   0.553981  -0.019556     -0.010025   \n",
       "YearCategorical        0.012786   0.178399  -0.262939     -0.237699   \n",
       "Drama                 -0.114673   0.063762   0.027816      0.035128   \n",
       "Action                -0.063419   0.046782   0.150367      0.172294   \n",
       "Romance               -0.065516   0.017670   0.037733      0.035002   \n",
       "Family                -0.027599  -0.049118   0.025303      0.062879   \n",
       "Crime                 -0.066569   0.084053   0.039802      0.051339   \n",
       "Comedy                -0.069518   0.117286  -0.012560     -0.026631   \n",
       "Thriller              -0.033700   0.001209  -0.015034     -0.033233   \n",
       "Horror                -0.019438  -0.020942  -0.007597     -0.079627   \n",
       "Before1980s           -0.011428   0.115057  -0.131913     -0.136631   \n",
       "Beginner Actor(1)     -0.022341  -0.080997  -0.297222     -0.669909   \n",
       "Top Actor(2)           0.398333  -0.049385   0.064330      0.271979   \n",
       "Top Actor(3)           1.000000  -0.044257  -0.048003      0.136208   \n",
       "HighVotes             -0.044257   1.000000  -0.015726      0.012111   \n",
       "DirNoFlim             -0.048003  -0.015726   1.000000      0.280366   \n",
       "Actor1NoFlim           0.136208   0.012111   0.280366      1.000000   \n",
       "Actor2Flim             0.647727  -0.040750   0.072428      0.378898   \n",
       "Actor3Flim             0.918337  -0.045055  -0.025893      0.181626   \n",
       "GenreEncoded           0.014440  -0.083917  -0.040952     -0.078076   \n",
       "\n",
       "                   Actor2Flim  Actor3Flim  GenreEncoded  \n",
       "Year                -0.084146    0.007521     -0.087407  \n",
       "Rating               0.093136    0.093126      0.121925  \n",
       "Votes               -0.032116   -0.036597     -0.065006  \n",
       "YearCategorical     -0.083195    0.014862     -0.075862  \n",
       "Drama               -0.064396   -0.117594      0.370770  \n",
       "Action               0.016379   -0.039671     -0.207057  \n",
       "Romance             -0.032235   -0.068208     -0.187785  \n",
       "Family               0.018280   -0.019535     -0.143669  \n",
       "Crime               -0.033187   -0.066610     -0.154271  \n",
       "Comedy              -0.076757   -0.073783     -0.243104  \n",
       "Thriller            -0.056303   -0.045296     -0.236393  \n",
       "Horror              -0.056118   -0.024689     -0.126521  \n",
       "Before1980s         -0.057706    0.014984     -0.053383  \n",
       "Beginner Actor(1)   -0.245147   -0.058449      0.110818  \n",
       "Top Actor(2)         0.757551    0.453887     -0.000175  \n",
       "Top Actor(3)         0.647727    0.918337      0.014440  \n",
       "HighVotes           -0.040750   -0.045055     -0.083917  \n",
       "DirNoFlim            0.072428   -0.025893     -0.040952  \n",
       "Actor1NoFlim         0.378898    0.181626     -0.078076  \n",
       "Actor2Flim           1.000000    0.728326     -0.029724  \n",
       "Actor3Flim           0.728326    1.000000      0.009674  \n",
       "GenreEncoded        -0.029724    0.009674      1.000000  "
      ]
     },
     "execution_count": 374,
     "metadata": {},
     "output_type": "execute_result"
    }
   ],
   "source": [
    "df.corr()"
   ]
  },
  {
   "cell_type": "code",
   "execution_count": 375,
   "id": "f8ae1925",
   "metadata": {},
   "outputs": [
    {
     "data": {
      "text/html": [
       "<div>\n",
       "<style scoped>\n",
       "    .dataframe tbody tr th:only-of-type {\n",
       "        vertical-align: middle;\n",
       "    }\n",
       "\n",
       "    .dataframe tbody tr th {\n",
       "        vertical-align: top;\n",
       "    }\n",
       "\n",
       "    .dataframe thead th {\n",
       "        text-align: right;\n",
       "    }\n",
       "</style>\n",
       "<table border=\"1\" class=\"dataframe\">\n",
       "  <thead>\n",
       "    <tr style=\"text-align: right;\">\n",
       "      <th></th>\n",
       "      <th>Name</th>\n",
       "      <th>Year</th>\n",
       "      <th>Duration</th>\n",
       "      <th>Genre</th>\n",
       "      <th>Rating</th>\n",
       "      <th>Votes</th>\n",
       "      <th>Director</th>\n",
       "      <th>Actor 1</th>\n",
       "      <th>Actor 2</th>\n",
       "      <th>Actor 3</th>\n",
       "      <th>YearCategorical</th>\n",
       "      <th>Drama</th>\n",
       "      <th>Action</th>\n",
       "      <th>Romance</th>\n",
       "      <th>Family</th>\n",
       "      <th>Crime</th>\n",
       "      <th>Comedy</th>\n",
       "      <th>Thriller</th>\n",
       "      <th>Horror</th>\n",
       "      <th>Before1980s</th>\n",
       "      <th>Beginner Actor(1)</th>\n",
       "      <th>Top Actor(2)</th>\n",
       "      <th>Top Actor(3)</th>\n",
       "      <th>HighVotes</th>\n",
       "      <th>DirNoFlim</th>\n",
       "      <th>Actor1NoFlim</th>\n",
       "      <th>Actor2Flim</th>\n",
       "      <th>Actor3Flim</th>\n",
       "      <th>GenreEncoded</th>\n",
       "    </tr>\n",
       "  </thead>\n",
       "  <tbody>\n",
       "    <tr>\n",
       "      <th>1</th>\n",
       "      <td>#Gadhvi (He thought he was Gandhi)</td>\n",
       "      <td>2019</td>\n",
       "      <td>109 min</td>\n",
       "      <td>Drama</td>\n",
       "      <td>7.0</td>\n",
       "      <td>8</td>\n",
       "      <td>Gaurav Bakshi</td>\n",
       "      <td>Rasika Dugal</td>\n",
       "      <td>Vivek Ghamande</td>\n",
       "      <td>Arvind Jangid</td>\n",
       "      <td>7</td>\n",
       "      <td>1</td>\n",
       "      <td>0</td>\n",
       "      <td>0</td>\n",
       "      <td>0</td>\n",
       "      <td>0</td>\n",
       "      <td>0</td>\n",
       "      <td>0</td>\n",
       "      <td>0</td>\n",
       "      <td>1</td>\n",
       "      <td>1</td>\n",
       "      <td>0</td>\n",
       "      <td>0</td>\n",
       "      <td>0</td>\n",
       "      <td>1</td>\n",
       "      <td>2</td>\n",
       "      <td>1</td>\n",
       "      <td>1</td>\n",
       "      <td>1279</td>\n",
       "    </tr>\n",
       "    <tr>\n",
       "      <th>3</th>\n",
       "      <td>#Yaaram</td>\n",
       "      <td>2019</td>\n",
       "      <td>110 min</td>\n",
       "      <td>Comedy, Romance</td>\n",
       "      <td>4.4</td>\n",
       "      <td>35</td>\n",
       "      <td>Ovais Khan</td>\n",
       "      <td>Prateik</td>\n",
       "      <td>Ishita Raj</td>\n",
       "      <td>Siddhant Kapoor</td>\n",
       "      <td>7</td>\n",
       "      <td>0</td>\n",
       "      <td>0</td>\n",
       "      <td>1</td>\n",
       "      <td>0</td>\n",
       "      <td>0</td>\n",
       "      <td>1</td>\n",
       "      <td>0</td>\n",
       "      <td>0</td>\n",
       "      <td>1</td>\n",
       "      <td>1</td>\n",
       "      <td>0</td>\n",
       "      <td>0</td>\n",
       "      <td>0</td>\n",
       "      <td>1</td>\n",
       "      <td>5</td>\n",
       "      <td>1</td>\n",
       "      <td>2</td>\n",
       "      <td>120</td>\n",
       "    </tr>\n",
       "    <tr>\n",
       "      <th>5</th>\n",
       "      <td>...Aur Pyaar Ho Gaya</td>\n",
       "      <td>1997</td>\n",
       "      <td>147 min</td>\n",
       "      <td>Comedy, Drama, Musical</td>\n",
       "      <td>4.7</td>\n",
       "      <td>827</td>\n",
       "      <td>Rahul Rawail</td>\n",
       "      <td>Bobby Deol</td>\n",
       "      <td>Aishwarya Rai Bachchan</td>\n",
       "      <td>Shammi Kapoor</td>\n",
       "      <td>5</td>\n",
       "      <td>1</td>\n",
       "      <td>0</td>\n",
       "      <td>0</td>\n",
       "      <td>0</td>\n",
       "      <td>0</td>\n",
       "      <td>1</td>\n",
       "      <td>0</td>\n",
       "      <td>0</td>\n",
       "      <td>1</td>\n",
       "      <td>0</td>\n",
       "      <td>0</td>\n",
       "      <td>0</td>\n",
       "      <td>0</td>\n",
       "      <td>17</td>\n",
       "      <td>18</td>\n",
       "      <td>15</td>\n",
       "      <td>13</td>\n",
       "      <td>49</td>\n",
       "    </tr>\n",
       "    <tr>\n",
       "      <th>6</th>\n",
       "      <td>...Yahaan</td>\n",
       "      <td>2005</td>\n",
       "      <td>142 min</td>\n",
       "      <td>Drama, Romance, War</td>\n",
       "      <td>7.4</td>\n",
       "      <td>1086</td>\n",
       "      <td>Shoojit Sircar</td>\n",
       "      <td>Jimmy Sheirgill</td>\n",
       "      <td>Minissha Lamba</td>\n",
       "      <td>Yashpal Sharma</td>\n",
       "      <td>6</td>\n",
       "      <td>1</td>\n",
       "      <td>0</td>\n",
       "      <td>1</td>\n",
       "      <td>0</td>\n",
       "      <td>0</td>\n",
       "      <td>0</td>\n",
       "      <td>0</td>\n",
       "      <td>0</td>\n",
       "      <td>1</td>\n",
       "      <td>0</td>\n",
       "      <td>0</td>\n",
       "      <td>0</td>\n",
       "      <td>0</td>\n",
       "      <td>7</td>\n",
       "      <td>25</td>\n",
       "      <td>4</td>\n",
       "      <td>8</td>\n",
       "      <td>5</td>\n",
       "    </tr>\n",
       "    <tr>\n",
       "      <th>8</th>\n",
       "      <td>?: A Question Mark</td>\n",
       "      <td>2012</td>\n",
       "      <td>82 min</td>\n",
       "      <td>Horror, Mystery, Thriller</td>\n",
       "      <td>5.6</td>\n",
       "      <td>326</td>\n",
       "      <td>Allyson Patel</td>\n",
       "      <td>Yash Dave</td>\n",
       "      <td>Muntazir Ahmad</td>\n",
       "      <td>Kiran Bhatia</td>\n",
       "      <td>7</td>\n",
       "      <td>0</td>\n",
       "      <td>0</td>\n",
       "      <td>0</td>\n",
       "      <td>0</td>\n",
       "      <td>0</td>\n",
       "      <td>0</td>\n",
       "      <td>1</td>\n",
       "      <td>1</td>\n",
       "      <td>1</td>\n",
       "      <td>1</td>\n",
       "      <td>0</td>\n",
       "      <td>0</td>\n",
       "      <td>0</td>\n",
       "      <td>1</td>\n",
       "      <td>1</td>\n",
       "      <td>6</td>\n",
       "      <td>1</td>\n",
       "      <td>11</td>\n",
       "    </tr>\n",
       "  </tbody>\n",
       "</table>\n",
       "</div>"
      ],
      "text/plain": [
       "                                 Name  Year Duration  \\\n",
       "1  #Gadhvi (He thought he was Gandhi)  2019  109 min   \n",
       "3                             #Yaaram  2019  110 min   \n",
       "5                ...Aur Pyaar Ho Gaya  1997  147 min   \n",
       "6                           ...Yahaan  2005  142 min   \n",
       "8                  ?: A Question Mark  2012   82 min   \n",
       "\n",
       "                       Genre  Rating  Votes        Director          Actor 1  \\\n",
       "1                      Drama     7.0      8   Gaurav Bakshi     Rasika Dugal   \n",
       "3            Comedy, Romance     4.4     35      Ovais Khan          Prateik   \n",
       "5     Comedy, Drama, Musical     4.7    827    Rahul Rawail       Bobby Deol   \n",
       "6        Drama, Romance, War     7.4   1086  Shoojit Sircar  Jimmy Sheirgill   \n",
       "8  Horror, Mystery, Thriller     5.6    326   Allyson Patel        Yash Dave   \n",
       "\n",
       "                  Actor 2          Actor 3  YearCategorical  Drama  Action  \\\n",
       "1          Vivek Ghamande    Arvind Jangid                7      1       0   \n",
       "3              Ishita Raj  Siddhant Kapoor                7      0       0   \n",
       "5  Aishwarya Rai Bachchan    Shammi Kapoor                5      1       0   \n",
       "6          Minissha Lamba   Yashpal Sharma                6      1       0   \n",
       "8          Muntazir Ahmad     Kiran Bhatia                7      0       0   \n",
       "\n",
       "   Romance  Family  Crime  Comedy  Thriller  Horror  Before1980s  \\\n",
       "1        0       0      0       0         0       0            1   \n",
       "3        1       0      0       1         0       0            1   \n",
       "5        0       0      0       1         0       0            1   \n",
       "6        1       0      0       0         0       0            1   \n",
       "8        0       0      0       0         1       1            1   \n",
       "\n",
       "   Beginner Actor(1)  Top Actor(2)  Top Actor(3)  HighVotes  DirNoFlim  \\\n",
       "1                  1             0             0          0          1   \n",
       "3                  1             0             0          0          1   \n",
       "5                  0             0             0          0         17   \n",
       "6                  0             0             0          0          7   \n",
       "8                  1             0             0          0          1   \n",
       "\n",
       "   Actor1NoFlim  Actor2Flim  Actor3Flim  GenreEncoded  \n",
       "1             2           1           1          1279  \n",
       "3             5           1           2           120  \n",
       "5            18          15          13            49  \n",
       "6            25           4           8             5  \n",
       "8             1           6           1            11  "
      ]
     },
     "execution_count": 375,
     "metadata": {},
     "output_type": "execute_result"
    }
   ],
   "source": [
    "# Final dataset for training\n",
    "df.head()"
   ]
  },
  {
   "cell_type": "markdown",
   "id": "ca9f49d8",
   "metadata": {},
   "source": [
    "### DATA REDUCTION"
   ]
  },
  {
   "cell_type": "code",
   "execution_count": 376,
   "id": "293bfa0b",
   "metadata": {},
   "outputs": [],
   "source": [
    "# removing features which is not required\n",
    "df.drop(columns=['Name',\"Year\",\"Duration\",'Genre', 'Director', 'Actor 1', 'Actor 2', 'Actor 3'],inplace=True)\n"
   ]
  },
  {
   "cell_type": "markdown",
   "id": "607b3ecc",
   "metadata": {},
   "source": [
    "### DATA TRANSFORMATION TO VOTTING \n",
    "applying logerthemic transformation"
   ]
  },
  {
   "cell_type": "code",
   "execution_count": 377,
   "id": "665ce9df",
   "metadata": {},
   "outputs": [
    {
     "data": {
      "text/plain": [
       "25.386589409596315"
      ]
     },
     "execution_count": 377,
     "metadata": {},
     "output_type": "execute_result"
    }
   ],
   "source": [
    "# Skewness of the datset \n",
    "stats.skew(df[\"Votes\"])"
   ]
  },
  {
   "cell_type": "code",
   "execution_count": 386,
   "id": "d0648bdc",
   "metadata": {},
   "outputs": [],
   "source": [
    "# Logerthemic tranfomation\n",
    "def transform(x):\n",
    "    if x <= 0:\n",
    "        return x\n",
    "    else:\n",
    "        return math.log(x)\n",
    "\n",
    "    \n",
    "df[\"Votes\"] = df[\"Votes\"].apply(transform)"
   ]
  },
  {
   "cell_type": "code",
   "execution_count": 387,
   "id": "3ef6a33f",
   "metadata": {},
   "outputs": [
    {
     "data": {
      "text/plain": [
       "0.8310096703162353"
      ]
     },
     "execution_count": 387,
     "metadata": {},
     "output_type": "execute_result"
    }
   ],
   "source": [
    "stats.skew(df[\"Votes\"])"
   ]
  },
  {
   "cell_type": "code",
   "execution_count": 388,
   "id": "d883f5f1",
   "metadata": {},
   "outputs": [
    {
     "data": {
      "text/plain": [
       "0"
      ]
     },
     "execution_count": 388,
     "metadata": {},
     "output_type": "execute_result"
    }
   ],
   "source": [
    "df[\"Votes\"].isnull().sum()"
   ]
  },
  {
   "cell_type": "markdown",
   "id": "7a8e1de8",
   "metadata": {},
   "source": [
    "### DATASET SPLITTING"
   ]
  },
  {
   "cell_type": "code",
   "execution_count": 389,
   "id": "d28ca0b0",
   "metadata": {},
   "outputs": [],
   "source": [
    "X = df.drop(columns=[\"Rating\"])\n",
    "y = df[\"Rating\"]"
   ]
  },
  {
   "cell_type": "code",
   "execution_count": 390,
   "id": "8d35b570",
   "metadata": {},
   "outputs": [],
   "source": [
    "X_train, X_test, y_train, y_test = train_test_split(X, y, test_size=0.2, random_state=42)"
   ]
  },
  {
   "cell_type": "markdown",
   "id": "d09899bf",
   "metadata": {},
   "source": [
    "### MODEL TRAINING\n",
    "using Random Forest Regressor"
   ]
  },
  {
   "cell_type": "code",
   "execution_count": 391,
   "id": "9ac8b3ab",
   "metadata": {},
   "outputs": [
    {
     "name": "stdout",
     "output_type": "stream",
     "text": [
      "R-squared (R2) score: 0.3766540052880222\n"
     ]
    }
   ],
   "source": [
    "model = RandomForestRegressor()\n",
    "\n",
    "# Train the model\n",
    "model.fit(X_train, y_train)\n",
    "\n",
    "# Make predictions on the test set\n",
    "y_pred = model.predict(X_test)\n",
    "\n",
    "# Evaluate the model using R-squared (R2)\n",
    "r2 = r2_score(y_test, y_pred)\n",
    "\n",
    "print(f'R-squared (R2) score: {r2}')   "
   ]
  },
  {
   "cell_type": "markdown",
   "id": "1c65c45f",
   "metadata": {},
   "source": [
    "### MODEL EVALUATION\n",
    "1. Mean absolute error \n",
    "2. Mean squared error\n",
    "3. Root mean squared error"
   ]
  },
  {
   "cell_type": "code",
   "execution_count": 395,
   "id": "032e50f3",
   "metadata": {},
   "outputs": [
    {
     "data": {
      "text/plain": [
       "0.8221821537434226"
      ]
     },
     "execution_count": 395,
     "metadata": {},
     "output_type": "execute_result"
    }
   ],
   "source": [
    "mean_absolute_error(y_pred,y_test)"
   ]
  },
  {
   "cell_type": "code",
   "execution_count": 396,
   "id": "d44addec",
   "metadata": {},
   "outputs": [
    {
     "data": {
      "text/plain": [
       "1.1588906770077616"
      ]
     },
     "execution_count": 396,
     "metadata": {},
     "output_type": "execute_result"
    }
   ],
   "source": [
    "mean_squared_error(y_pred,y_test) "
   ]
  },
  {
   "cell_type": "code",
   "execution_count": 397,
   "id": "2ed8e693",
   "metadata": {
    "scrolled": true
   },
   "outputs": [
    {
     "data": {
      "text/plain": [
       "1.0765178479745525"
      ]
     },
     "execution_count": 397,
     "metadata": {},
     "output_type": "execute_result"
    }
   ],
   "source": [
    "np.sqrt(mean_squared_error(y_pred,y_test)) "
   ]
  }
 ],
 "metadata": {
  "kernelspec": {
   "display_name": "Python 3 (ipykernel)",
   "language": "python",
   "name": "python3"
  },
  "language_info": {
   "codemirror_mode": {
    "name": "ipython",
    "version": 3
   },
   "file_extension": ".py",
   "mimetype": "text/x-python",
   "name": "python",
   "nbconvert_exporter": "python",
   "pygments_lexer": "ipython3",
   "version": "3.9.13"
  }
 },
 "nbformat": 4,
 "nbformat_minor": 5
}
